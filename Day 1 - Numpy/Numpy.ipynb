{
  "cells": [
    {
      "cell_type": "markdown",
      "metadata": {
        "id": "-WXCqMeOcd2K"
      },
      "source": [
        "What is Numpy ?\n",
        "\n",
        "1) Numpy is the fundamental package for scientific computing in python.\n",
        "\n",
        "2)Numpy is a python library that provides a multidimensional array objects, various derived objects.\n",
        "\n",
        "It is widely used in data science, machine learning, AI, image processing,\n",
        "\n",
        "\n",
        "Key Features of NumPy:\n",
        "\n",
        "1->N-dimensional array object called ndarray\n",
        "\n",
        "2->Broadcasting functions (operate on arrays of different shapes)\n",
        "\n",
        "3->Vectorized operations (fast performance using C backend)\n",
        "\n",
        "4->Linear algebra, Fourier transform, and random number generation"
      ]
    },
    {
      "cell_type": "markdown",
      "metadata": {
        "id": "6Z0SNjnJdryw"
      },
      "source": [
        "What is Numpy Array ?\n",
        "\n",
        "-> An array is a grid of values and it contains information about the raw data , how to locate an element, and how to interpret the element.\n",
        "\n",
        "Advantage Of Numpy Array ?\n",
        "\n",
        "1)consume less memory.\n",
        "\n",
        "2)fast as compared to the python list.\n",
        "\n",
        "list : [1 ,2, 3 ]  comma seprated values.\n",
        "\n",
        "Array : [ 1 2 3]  not comma seperated values.\n",
        "\n",
        "*Installation of numpy\n",
        "\n",
        "pip install numpy\n"
      ]
    },
    {
      "cell_type": "code",
      "execution_count": null,
      "metadata": {
        "id": "nDcX7iDMccJY"
      },
      "outputs": [],
      "source": [
        "# import numpy\n",
        "\n",
        "import numpy as np"
      ]
    },
    {
      "cell_type": "code",
      "execution_count": null,
      "metadata": {
        "colab": {
          "base_uri": "https://localhost:8080/"
        },
        "id": "OX0ZCcXyhk5S",
        "outputId": "4c9d23b0-da51-43d6-ec71-91e5e81c2b59"
      },
      "outputs": [
        {
          "output_type": "stream",
          "name": "stdout",
          "text": [
            "[1 2 3 4 5]\n",
            "<class 'numpy.ndarray'>\n"
          ]
        }
      ],
      "source": [
        "# creating numpy array\n",
        "\n",
        "x = np.array([1,2,3,4,5])\n",
        "print(x)\n",
        "\n",
        "# check datatype of variable\n",
        "print(type(x))"
      ]
    },
    {
      "cell_type": "code",
      "execution_count": null,
      "metadata": {
        "colab": {
          "base_uri": "https://localhost:8080/"
        },
        "id": "36S-Uk9ohk1r",
        "outputId": "ddad8296-78b5-4144-f940-ec65dc9667ab"
      },
      "outputs": [
        {
          "output_type": "stream",
          "name": "stdout",
          "text": [
            "[1, 2, 3, 4]\n",
            "<class 'list'>\n"
          ]
        }
      ],
      "source": [
        "# creating list\n",
        "\n",
        "y =[1,2,3,4]\n",
        "print(y)\n",
        "\n",
        "# check datatype of variable\n",
        "print(type(y))"
      ]
    },
    {
      "cell_type": "markdown",
      "metadata": {
        "id": "3f42fUdRPHIf"
      },
      "source": [
        "finding the running time using the functions\n",
        "\n",
        "1) %timeit  -> it gives single line running time.\n",
        "\n",
        "2)%%timeit -> it gives whole program running time."
      ]
    },
    {
      "cell_type": "code",
      "execution_count": null,
      "metadata": {
        "colab": {
          "base_uri": "https://localhost:8080/"
        },
        "id": "A4c01zEChkwl",
        "outputId": "04de66fe-c603-4b62-abe2-94b891e3bf70"
      },
      "outputs": [
        {
          "output_type": "stream",
          "name": "stdout",
          "text": [
            "1.1 µs ± 291 ns per loop (mean ± std. dev. of 7 runs, 1000000 loops each)\n"
          ]
        }
      ],
      "source": [
        "%timeit [ j ** 4 for j in range(1,9)]"
      ]
    },
    {
      "cell_type": "code",
      "execution_count": null,
      "metadata": {
        "colab": {
          "base_uri": "https://localhost:8080/"
        },
        "id": "5wHwSFTYhktZ",
        "outputId": "d6ccc237-3bd2-4cc2-db35-5075116bac90"
      },
      "outputs": [
        {
          "output_type": "stream",
          "name": "stdout",
          "text": [
            "2.49 µs ± 1.03 µs per loop (mean ± std. dev. of 7 runs, 1000000 loops each)\n"
          ]
        }
      ],
      "source": [
        "%timeit np.arange(1,9)**4"
      ]
    },
    {
      "cell_type": "markdown",
      "metadata": {
        "id": "dw-FUUA1SjPm"
      },
      "source": [
        "np.arange() is a function used to create arrays with regularly spaced values within a given range.\n",
        "\n",
        "🔸 Syntax:\n",
        "\n",
        "numpy.arange([start, ]stop, [step, ]dtype=None)\n",
        "\n",
        "start (optional): Starting value of the sequence (default is 0)\n",
        "\n",
        "stop (required): End value (not included)\n",
        "\n",
        "step (optional): Spacing between values (default is 1)\n",
        "\n",
        "dtype (optional): Desired data type\n",
        "\n"
      ]
    },
    {
      "cell_type": "code",
      "execution_count": null,
      "metadata": {
        "colab": {
          "base_uri": "https://localhost:8080/"
        },
        "id": "_IXy3FiGhkqU",
        "outputId": "292c0231-7152-4fe2-af68-fdf74b343d94"
      },
      "outputs": [
        {
          "output_type": "stream",
          "name": "stdout",
          "text": [
            "[0 1 2 3 4 5 6 7 8 9]\n"
          ]
        }
      ],
      "source": [
        "import numpy as np\n",
        "\n",
        "arr = np.arange(10)\n",
        "print(arr)\n"
      ]
    },
    {
      "cell_type": "code",
      "execution_count": null,
      "metadata": {
        "colab": {
          "base_uri": "https://localhost:8080/"
        },
        "id": "296qxTK1TXiv",
        "outputId": "c7cb57e5-b569-4103-e450-ebf9e6b7c749"
      },
      "outputs": [
        {
          "output_type": "stream",
          "name": "stdout",
          "text": [
            "[2 3 4 5 6 7 8 9]\n"
          ]
        }
      ],
      "source": [
        "\n",
        "arr = np.arange(2, 10)\n",
        "print(arr)\n"
      ]
    },
    {
      "cell_type": "code",
      "execution_count": null,
      "metadata": {
        "colab": {
          "base_uri": "https://localhost:8080/"
        },
        "id": "_gnph2GmhkmA",
        "outputId": "3a524dfd-57d0-4628-a378-351a96ff2bd0"
      },
      "outputs": [
        {
          "output_type": "stream",
          "name": "stdout",
          "text": [
            "[1 3 5 7 9]\n"
          ]
        }
      ],
      "source": [
        "arr = np.arange(1, 10, 2)\n",
        "print(arr)\n"
      ]
    },
    {
      "cell_type": "markdown",
      "metadata": {
        "id": "8YjCKvmYUFQP"
      },
      "source": [
        "Creating Array :\n",
        "\n"
      ]
    },
    {
      "cell_type": "code",
      "execution_count": null,
      "metadata": {
        "colab": {
          "base_uri": "https://localhost:8080/"
        },
        "id": "t1DijhjghkWb",
        "outputId": "0db477ae-7558-4f87-e94e-660003e4c7c8"
      },
      "outputs": [
        {
          "output_type": "stream",
          "name": "stdout",
          "text": [
            "[1 2 3 4 5]\n",
            "<class 'numpy.ndarray'>\n"
          ]
        }
      ],
      "source": [
        "x = [1,2,3,4,5]\n",
        "y = np.array(x) # creating array using array() function.\n",
        "print(y)\n",
        "print(type(y))"
      ]
    },
    {
      "cell_type": "code",
      "execution_count": null,
      "metadata": {
        "colab": {
          "base_uri": "https://localhost:8080/"
        },
        "id": "SedRb6D9TiIw",
        "outputId": "dd1f7e03-c6e0-4f70-d03f-e01498ed69ac"
      },
      "outputs": [
        {
          "output_type": "stream",
          "name": "stdout",
          "text": [
            "enter elements : 10\n",
            "enter elements : 20\n",
            "enter elements : 30\n",
            "enter elements : 40\n",
            "List :  [10, 20, 30, 40]\n",
            "Array :  [10 20 30 40]\n"
          ]
        }
      ],
      "source": [
        "\n",
        "l = []\n",
        "for i in range(1, 5):\n",
        "    int_1 = int(input(\"enter elements : \"))\n",
        "    l.append(int_1)\n",
        "print(\"List : \",l)\n",
        "print(\"Array : \",np.array(l))"
      ]
    },
    {
      "cell_type": "markdown",
      "metadata": {
        "id": "Oye0wn5gV4W5"
      },
      "source": [
        "Types Of Array :\n",
        "\n",
        "1) 1D arrays\n",
        "\n",
        "2) 2D arrays\n",
        "\n",
        "3) 3D arrays\n",
        "\n",
        "4) Higher Dimension Arrays"
      ]
    },
    {
      "cell_type": "code",
      "execution_count": null,
      "metadata": {
        "colab": {
          "base_uri": "https://localhost:8080/"
        },
        "id": "ReQfxDx3TiFS",
        "outputId": "1357b9ba-40b9-4919-e0d0-aba772f3c584"
      },
      "outputs": [
        {
          "output_type": "stream",
          "name": "stdout",
          "text": [
            "[1 2 3 4 5]\n",
            "1\n"
          ]
        }
      ],
      "source": [
        "# 1D array\n",
        "import numpy as np\n",
        "\n",
        "x = np.array([1,2,3,4,5])\n",
        "print(x)\n",
        "\n",
        "print(x.ndim) # checking dimension of array"
      ]
    },
    {
      "cell_type": "code",
      "execution_count": null,
      "metadata": {
        "colab": {
          "base_uri": "https://localhost:8080/"
        },
        "id": "3BQuXwxOTiCt",
        "outputId": "b840081d-3501-4113-b6c4-adfc4661c3d9"
      },
      "outputs": [
        {
          "output_type": "stream",
          "name": "stdout",
          "text": [
            "[[1 2 3]\n",
            " [4 5 6]]\n",
            "2\n"
          ]
        }
      ],
      "source": [
        "#2D array\n",
        "\n",
        "y = np.array([[1,2,3],[4,5,6]])\n",
        "print(y)\n",
        "\n",
        "print(y.ndim)  # checking dimension of array"
      ]
    },
    {
      "cell_type": "code",
      "execution_count": null,
      "metadata": {
        "colab": {
          "base_uri": "https://localhost:8080/"
        },
        "id": "hO5yPBDFTiBI",
        "outputId": "b0fbdf5e-3531-4720-815a-8ff9076243cf"
      },
      "outputs": [
        {
          "output_type": "stream",
          "name": "stdout",
          "text": [
            "[[[1 2 3 4]\n",
            "  [1 2 3 4]\n",
            "  [1 2 3 4]]]\n",
            "3\n"
          ]
        }
      ],
      "source": [
        "#3D array\n",
        "\n",
        "z = np.array([[[1,2,3,4],[1 ,2,3,4],[1,2,3,4]]])\n",
        "\n",
        "print(z)\n",
        "\n",
        "print(z.ndim) # checking dimension of array"
      ]
    },
    {
      "cell_type": "code",
      "execution_count": null,
      "metadata": {
        "colab": {
          "base_uri": "https://localhost:8080/"
        },
        "id": "HCvsvVBATh-3",
        "outputId": "3880056b-7834-42f5-f303-418b56c009b9"
      },
      "outputs": [
        {
          "output_type": "stream",
          "name": "stdout",
          "text": [
            "[[[[[[[[[[1 2 3 4 5]]]]]]]]]]\n",
            "10\n"
          ]
        }
      ],
      "source": [
        "#creating multi-dimensional array using the ndmin = dimensional value\n",
        "\n",
        "\n",
        "arr = np.array([1,2,3,4,5], ndmin=10)  #creating 10 dimensional array\n",
        "\n",
        "print(arr)\n",
        "\n",
        "print(arr.ndim)\n"
      ]
    },
    {
      "cell_type": "markdown",
      "metadata": {
        "id": "qzW2vk3SYsH5"
      },
      "source": [
        "Creating the special types of arrays filled with specific values."
      ]
    },
    {
      "cell_type": "markdown",
      "metadata": {
        "id": "NI3GzcgGbNYW"
      },
      "source": [
        "zeros() function"
      ]
    },
    {
      "cell_type": "code",
      "execution_count": null,
      "metadata": {
        "colab": {
          "base_uri": "https://localhost:8080/"
        },
        "id": "3jdK_xQRTh8R",
        "outputId": "a10c95c5-228e-42e0-b5e4-e4e45a796158"
      },
      "outputs": [
        {
          "output_type": "stream",
          "name": "stdout",
          "text": [
            "[0 0 0 0]\n",
            "\n",
            "[[0. 0. 0.]\n",
            " [0. 0. 0.]]\n",
            "2\n"
          ]
        }
      ],
      "source": [
        "#Array filled with 0's\n",
        "arr_zeros = np.zeros(4)\n",
        "arr_zeros = arr_zeros.astype(int) # convert particular datatype integer , by default give floating values 0. like\n",
        "print(arr_zeros)\n",
        "print()\n",
        "#zeros((rowscount , colcount))\n",
        "arr_zeros1 = np.zeros((2,3))\n",
        "print(arr_zeros1)\n",
        "print(arr_zeros1.ndim)"
      ]
    },
    {
      "cell_type": "markdown",
      "metadata": {
        "id": "4C9i6XDGbVgI"
      },
      "source": [
        "ones() function"
      ]
    },
    {
      "cell_type": "code",
      "execution_count": null,
      "metadata": {
        "colab": {
          "base_uri": "https://localhost:8080/"
        },
        "id": "7NxYa7v1Th51",
        "outputId": "3edf64c5-514f-4fa5-93b7-8bb90d617a08"
      },
      "outputs": [
        {
          "output_type": "stream",
          "name": "stdout",
          "text": [
            "[1. 1. 1. 1.]\n",
            "\n",
            "[[1. 1. 1.]\n",
            " [1. 1. 1.]]\n",
            "2\n"
          ]
        }
      ],
      "source": [
        "#Array filled with 1's\n",
        "\n",
        "arr_ones = np.ones(4)\n",
        "print(arr_ones)\n",
        "\n",
        "print()\n",
        "# 2x3 array filled with ones\n",
        "arr_one = np.ones((2, 3))\n",
        "print(arr_one)\n",
        "print(arr_one.ndim)"
      ]
    },
    {
      "cell_type": "markdown",
      "metadata": {
        "id": "cmmLOglycTV9"
      },
      "source": [
        "Creating empty array"
      ]
    },
    {
      "cell_type": "code",
      "execution_count": null,
      "metadata": {
        "colab": {
          "base_uri": "https://localhost:8080/"
        },
        "id": "hcNQcpvUTh2c",
        "outputId": "267fdf80-4f9c-4361-e3fa-878198b093ed"
      },
      "outputs": [
        {
          "output_type": "stream",
          "name": "stdout",
          "text": [
            "[1. 1. 1. 1.]\n"
          ]
        }
      ],
      "source": [
        "arr_empty = np.empty(4)\n",
        "print(arr_empty) # previous memory data comes in empty array."
      ]
    },
    {
      "cell_type": "markdown",
      "metadata": {
        "id": "CVOm_LKOdKaJ"
      },
      "source": [
        "Array diagonal element filled with 1's = identity matrix\n",
        "\n",
        "eye() function"
      ]
    },
    {
      "cell_type": "code",
      "execution_count": null,
      "metadata": {
        "colab": {
          "base_uri": "https://localhost:8080/"
        },
        "id": "P3HmaGm5Thq_",
        "outputId": "e037d640-96fd-46f2-f33e-76e4d22acad9"
      },
      "outputs": [
        {
          "output_type": "stream",
          "name": "stdout",
          "text": [
            "[[1. 0. 0.]\n",
            " [0. 1. 0.]\n",
            " [0. 0. 1.]]\n"
          ]
        }
      ],
      "source": [
        "arr_diagonal = np.eye(3)\n",
        "print(arr_diagonal)\n"
      ]
    },
    {
      "cell_type": "code",
      "execution_count": null,
      "metadata": {
        "colab": {
          "base_uri": "https://localhost:8080/"
        },
        "id": "YiU3UOl1eEkq",
        "outputId": "2f855e74-8417-4560-c93a-7a6afadc0910"
      },
      "outputs": [
        {
          "output_type": "stream",
          "name": "stdout",
          "text": [
            "[[1. 0. 0. 0. 0.]\n",
            " [0. 1. 0. 0. 0.]\n",
            " [0. 0. 1. 0. 0.]]\n"
          ]
        }
      ],
      "source": [
        "arr_diagonal = np.eye(3,5)\n",
        "print(arr_diagonal)"
      ]
    },
    {
      "cell_type": "markdown",
      "metadata": {
        "id": "uB65-cOXeYH8"
      },
      "source": [
        "linespace() function\n"
      ]
    },
    {
      "cell_type": "code",
      "execution_count": null,
      "metadata": {
        "colab": {
          "base_uri": "https://localhost:8080/"
        },
        "id": "nX2RpMfIeEil",
        "outputId": "3ecabd16-20b2-4de6-fb1e-e7c80b7c77a3"
      },
      "outputs": [
        {
          "output_type": "stream",
          "name": "stdout",
          "text": [
            "[ 0.   2.5  5.   7.5 10. ]\n"
          ]
        }
      ],
      "source": [
        "ar_line = np.linspace(0,10,num=5)\n",
        "print(ar_line)"
      ]
    },
    {
      "cell_type": "markdown",
      "metadata": {
        "id": "bf_bBmFne_Gf"
      },
      "source": [
        "Creating numpy arrays with random numbers :\n",
        "\n",
        "rand() -> generate values between 0 to 1\n",
        "\n",
        "\n",
        "\n"
      ]
    },
    {
      "cell_type": "code",
      "execution_count": null,
      "metadata": {
        "colab": {
          "base_uri": "https://localhost:8080/"
        },
        "id": "2iCYWA94eEgd",
        "outputId": "6e5ad34c-f75c-4b72-c844-720f566c84dc"
      },
      "outputs": [
        {
          "output_type": "stream",
          "name": "stdout",
          "text": [
            "[0.33235169 0.22891567 0.40798316 0.14283316]\n"
          ]
        }
      ],
      "source": [
        "#rand() function\n",
        "random_array = np.random.rand(4)\n",
        "print(random_array)\n"
      ]
    },
    {
      "cell_type": "code",
      "execution_count": null,
      "metadata": {
        "colab": {
          "base_uri": "https://localhost:8080/"
        },
        "id": "pz-SqhsveEcg",
        "outputId": "e8ba65fd-f3b0-44b7-9b29-f7080e3e09e7"
      },
      "outputs": [
        {
          "output_type": "stream",
          "name": "stdout",
          "text": [
            "[[0.02616559 0.06869339 0.29826268 0.01799996]\n",
            " [0.62482077 0.16957858 0.31189476 0.56202344]]\n"
          ]
        }
      ],
      "source": [
        "rand_arr = np.random.rand(2,4)\n",
        "print(rand_arr)"
      ]
    },
    {
      "cell_type": "markdown",
      "metadata": {
        "id": "1Rg5_JGHiAry"
      },
      "source": [
        "randn() -> it generates the random values close to zero. this may be return positve or negative values as well.\n"
      ]
    },
    {
      "cell_type": "code",
      "execution_count": null,
      "metadata": {
        "colab": {
          "base_uri": "https://localhost:8080/"
        },
        "id": "CnNaVrp3eEZF",
        "outputId": "bb0eb1b2-e90b-4f18-bd71-4be2ff244dc2"
      },
      "outputs": [
        {
          "output_type": "stream",
          "name": "stdout",
          "text": [
            "[-0.04872097  0.11211936  1.82066016 -0.979795  ]\n"
          ]
        }
      ],
      "source": [
        "#randn() function\n",
        "\n",
        "arr = np.random.randn(4)\n",
        "print(arr)"
      ]
    },
    {
      "cell_type": "code",
      "execution_count": null,
      "metadata": {
        "colab": {
          "base_uri": "https://localhost:8080/"
        },
        "id": "iuBGCWqGeEXT",
        "outputId": "20cc6c4b-86bd-49c0-a46a-8fa8d84627fe"
      },
      "outputs": [
        {
          "output_type": "stream",
          "name": "stdout",
          "text": [
            "[[ 0.33331691 -0.37667925 -0.0856741 ]\n",
            " [-0.5635617   1.17442766  1.7598102 ]\n",
            " [ 2.05677329  0.89628717 -1.07881473]\n",
            " [ 0.27031499 -1.05832068 -0.59772009]]\n"
          ]
        }
      ],
      "source": [
        "arr = np.random.randn(4,3)\n",
        "print(arr)"
      ]
    },
    {
      "cell_type": "markdown",
      "metadata": {
        "id": "RFTROeAGieR5"
      },
      "source": [
        "🔹 np.random.ranf()\n",
        "\n",
        "✅ Generates random float numbers between 0 and 1 (excluding 1).\n"
      ]
    },
    {
      "cell_type": "code",
      "execution_count": null,
      "metadata": {
        "colab": {
          "base_uri": "https://localhost:8080/"
        },
        "id": "i-fXsSMJeEVm",
        "outputId": "3814adc4-231b-4af4-d485-506cff7046d9"
      },
      "outputs": [
        {
          "output_type": "stream",
          "name": "stdout",
          "text": [
            "[0.07055976 0.76010166 0.7635824  0.76906988 0.06747651]\n",
            "\n",
            "[[0.945745   0.53134283 0.98473319 0.40250249 0.84577625 0.24631838\n",
            "  0.09926293]\n",
            " [0.90694312 0.78612855 0.6081365  0.56944143 0.82102835 0.20005133\n",
            "  0.19386834]\n",
            " [0.91334632 0.25336749 0.05773153 0.76976619 0.24912622 0.37178916\n",
            "  0.38475186]\n",
            " [0.57804218 0.19868765 0.84519414 0.6848973  0.07120051 0.55302672\n",
            "  0.93980739]\n",
            " [0.09914624 0.43816349 0.04447324 0.09058948 0.75368958 0.21852975\n",
            "  0.95205071]]\n",
            "2\n",
            "35\n",
            "(5, 7)\n"
          ]
        }
      ],
      "source": [
        "import numpy as np\n",
        "\n",
        "arr = np.random.ranf(5)  # Generate 5 random floats\n",
        "print(arr)\n",
        "\n",
        "print()\n",
        "\n",
        "arr = np.random.ranf((5,7))  # Generate 5 random floats\n",
        "print(arr)\n",
        "print(arr.ndim)\n",
        "\n",
        "# print the size and shape of the array\n",
        "print(arr.size)\n",
        "print(arr.shape)"
      ]
    },
    {
      "cell_type": "markdown",
      "metadata": {
        "id": "ehmDu8PzlBhl"
      },
      "source": [
        "randint() function\n",
        "\n",
        "syntax : random.randint(start , end , elements/(shape), dtype)"
      ]
    },
    {
      "cell_type": "code",
      "execution_count": null,
      "metadata": {
        "colab": {
          "base_uri": "https://localhost:8080/"
        },
        "id": "gDioipogeESs",
        "outputId": "103ca5ee-408f-4f8d-9b06-8a495f0d0639"
      },
      "outputs": [
        {
          "output_type": "stream",
          "name": "stdout",
          "text": [
            "[14 19 12  7 11]\n"
          ]
        }
      ],
      "source": [
        "arr = np.random.randint(5,20,5)\n",
        "print(arr)"
      ]
    },
    {
      "cell_type": "markdown",
      "metadata": {
        "id": "pIShpJWhM9j2"
      },
      "source": [
        "#**Numpy Array Data Types**\n",
        "\n",
        "| NumPy `dtype` | Description                      | Example               |\n",
        "|---------------|----------------------------------|------------------------|\n",
        "| `int8`        | 8-bit signed integer             | -128 to 127           |\n",
        "| `int16`       | 16-bit signed integer            | -32,768 to 32,767     |\n",
        "| `int32`       | 32-bit signed integer            | Default on 32-bit systems |\n",
        "| `int64`       | 64-bit signed integer            | Default on 64-bit systems |\n",
        "| `uint8`       | 8-bit unsigned integer           | 0 to 255              |\n",
        "| `float16`     | 16-bit half-precision float      | Less common           |\n",
        "| `float32`     | 32-bit single-precision float    | e.g., 3.14            |\n",
        "| `float64`     | 64-bit double-precision float    | Default for float     |\n",
        "| `complex64`   | Complex number (2×float32)       | e.g., 1.0 + 2.0j      |\n",
        "| `complex128`  | Complex number (2×float64)       | High precision        |\n",
        "| `bool_`       | Boolean                          | `True`, `False`       |\n",
        "| `str_`        | Fixed-length Unicode string      | `\"hello\"`             |\n",
        "| `object_`     | Generic Python objects           | Mixed types           |\n"
      ]
    },
    {
      "cell_type": "code",
      "execution_count": null,
      "metadata": {
        "colab": {
          "base_uri": "https://localhost:8080/"
        },
        "id": "uEk11zKDeEMS",
        "outputId": "adc1f9ee-50c8-4ff3-c45c-975279f85a3e"
      },
      "outputs": [
        {
          "output_type": "stream",
          "name": "stdout",
          "text": [
            "int64\n",
            "\n",
            "[1. 2. 3.]\n",
            "float32\n"
          ]
        }
      ],
      "source": [
        "arr = np.array([1, 2, 3])\n",
        "print(arr.dtype) # checking the type of data\n",
        "\n",
        "print()\n",
        "\n",
        "arr = np.array([1, 2, 3], dtype=np.float32)\n",
        "print(arr)\n",
        "print(arr.dtype)"
      ]
    },
    {
      "cell_type": "code",
      "execution_count": null,
      "metadata": {
        "colab": {
          "base_uri": "https://localhost:8080/"
        },
        "id": "yx7HG-U0eD9d",
        "outputId": "78c6659c-3dd4-4f3c-e2a6-5b8bad64ed87"
      },
      "outputs": [
        {
          "output_type": "stream",
          "name": "stdout",
          "text": [
            "[1 2 3]\n"
          ]
        }
      ],
      "source": [
        "arr = np.array([1.2, 2.5, 3.7])\n",
        "int_arr = arr.astype(int) # converting one data type to another datatype\n",
        "print(int_arr)"
      ]
    },
    {
      "cell_type": "code",
      "source": [
        "arr = np.array([1, 2, 3])\n",
        "str_arr = arr.astype(str)\n",
        "print(str_arr)\n",
        "print(str_arr.dtype)"
      ],
      "metadata": {
        "colab": {
          "base_uri": "https://localhost:8080/"
        },
        "id": "o8verbD-Tp4X",
        "outputId": "31df6f5e-907b-4c10-d091-9add089c1b96"
      },
      "execution_count": null,
      "outputs": [
        {
          "output_type": "stream",
          "name": "stdout",
          "text": [
            "['1' '2' '3']\n",
            "<U21\n"
          ]
        }
      ]
    },
    {
      "cell_type": "code",
      "source": [
        "arr = np.array(['1', '2', '3'])\n",
        "int_arr = np.int32(arr) #another way to converting data type\n",
        "print(int_arr)\n",
        "print(int_arr.dtype)"
      ],
      "metadata": {
        "colab": {
          "base_uri": "https://localhost:8080/"
        },
        "id": "gOZOQheUTp08",
        "outputId": "28efcd98-38b0-4b96-832a-9634a75f7362"
      },
      "execution_count": null,
      "outputs": [
        {
          "output_type": "stream",
          "name": "stdout",
          "text": [
            "[1 2 3]\n",
            "int32\n"
          ]
        }
      ]
    },
    {
      "cell_type": "code",
      "source": [
        "mix_arr = np.array([1, 2.5, '3'])\n",
        "print(mix_arr)\n",
        "print(mix_arr.dtype)"
      ],
      "metadata": {
        "colab": {
          "base_uri": "https://localhost:8080/"
        },
        "id": "1abJIV6VTpy3",
        "outputId": "24351498-9d1b-4eb8-ed02-2b2ddf0e57de"
      },
      "execution_count": null,
      "outputs": [
        {
          "output_type": "stream",
          "name": "stdout",
          "text": [
            "['1' '2.5' '3']\n",
            "<U32\n"
          ]
        }
      ]
    },
    {
      "cell_type": "code",
      "source": [
        "alphabet_arr = np.array(['a', 'b', 'c'])\n",
        "print(alphabet_arr)\n",
        "print(alphabet_arr.dtype)"
      ],
      "metadata": {
        "colab": {
          "base_uri": "https://localhost:8080/"
        },
        "id": "1_W-CNyQTpu3",
        "outputId": "d4c770a5-4347-4eaa-efd7-d3a18c266a9b"
      },
      "execution_count": null,
      "outputs": [
        {
          "output_type": "stream",
          "name": "stdout",
          "text": [
            "['a' 'b' 'c']\n",
            "<U1\n"
          ]
        }
      ]
    },
    {
      "cell_type": "code",
      "source": [
        "alpha_num_arr = np.array(['a', 1, 'b', 2, 'c'])\n",
        "print(alpha_num_arr)\n",
        "print(alpha_num_arr.dtype)"
      ],
      "metadata": {
        "colab": {
          "base_uri": "https://localhost:8080/"
        },
        "id": "nBH-BTNlTpoL",
        "outputId": "e39cf4b2-2b14-4e9e-a8b9-ab156f77b795"
      },
      "execution_count": null,
      "outputs": [
        {
          "output_type": "stream",
          "name": "stdout",
          "text": [
            "['a' '1' 'b' '2' 'c']\n",
            "<U21\n"
          ]
        }
      ]
    },
    {
      "cell_type": "markdown",
      "source": [
        "✅ NumPy Data Types: Short Symbols Table\n",
        "\n",
        "| Symbol | NumPy `dtype` | Description                        |\n",
        "|--------|---------------|------------------------------------|\n",
        "| `i1`   | `int8`        | 8-bit signed integer               |\n",
        "| `i2`   | `int16`       | 16-bit signed integer              |\n",
        "| `i4`   | `int32`       | 32-bit signed integer              |\n",
        "| `i8`   | `int64`       | 64-bit signed integer              |\n",
        "| `u1`   | `uint8`       | 8-bit unsigned integer             |\n",
        "| `u2`   | `uint16`      | 16-bit unsigned integer            |\n",
        "| `u4`   | `uint32`      | 32-bit unsigned integer            |\n",
        "| `u8`   | `uint64`      | 64-bit unsigned integer            |\n",
        "| `f2`   | `float16`     | 16-bit floating-point              |\n",
        "| `f4`   | `float32`     | 32-bit floating-point              |\n",
        "| `f8`   | `float64`     | 64-bit floating-point              |\n",
        "| `c8`   | `complex64`   | 64-bit complex number (2 × f4)     |\n",
        "| `c16`  | `complex128`  | 128-bit complex number (2 × f8)    |\n",
        "| `b`    | `bool_`       | Boolean (`True` or `False`)        |\n",
        "| `S`    | `bytes_`      | Fixed-length ASCII string          |\n",
        "| `U`    | `str_`        | Fixed-length Unicode string        |\n",
        "| `O`    | `object_`     | Python object (mixed types)        |\n"
      ],
      "metadata": {
        "id": "IYGCToCtVELM"
      }
    },
    {
      "cell_type": "code",
      "source": [
        "arr = np.array([1, 2, 3], dtype='i1')\n",
        "print(arr)\n",
        "print(arr.dtype)"
      ],
      "metadata": {
        "colab": {
          "base_uri": "https://localhost:8080/"
        },
        "id": "KyfkbzFYVC39",
        "outputId": "fbd5c382-b2d1-437c-d5b9-933222ade086"
      },
      "execution_count": null,
      "outputs": [
        {
          "output_type": "stream",
          "name": "stdout",
          "text": [
            "[1 2 3]\n",
            "int8\n"
          ]
        }
      ]
    },
    {
      "cell_type": "code",
      "source": [
        "str_arr = np.array(['hello', 'world'], dtype='U')\n",
        "print(str_arr)\n",
        "print(str_arr.dtype)"
      ],
      "metadata": {
        "colab": {
          "base_uri": "https://localhost:8080/"
        },
        "id": "dhe6zRrmVC1Y",
        "outputId": "ce9c2789-c2fc-4945-c771-0e07e1bac63e"
      },
      "execution_count": null,
      "outputs": [
        {
          "output_type": "stream",
          "name": "stdout",
          "text": [
            "['hello' 'world']\n",
            "<U5\n"
          ]
        }
      ]
    },
    {
      "cell_type": "markdown",
      "source": [
        "#Shape and Reshape in numpy arrays\n"
      ],
      "metadata": {
        "id": "HwVBD7tNWjT0"
      }
    },
    {
      "cell_type": "code",
      "source": [
        "arr = np.array([[1, 2, 3], [4, 5, 6]])\n",
        "print(\"Shape : \" ,arr.shape)  # Output: (2, 3)\n",
        "print()\n",
        "print(\"Size Of Array  : \",arr.size)"
      ],
      "metadata": {
        "colab": {
          "base_uri": "https://localhost:8080/"
        },
        "id": "gdRtcgc2VCzZ",
        "outputId": "08f7d29f-73ce-4c07-e478-d7de3f38b461"
      },
      "execution_count": null,
      "outputs": [
        {
          "output_type": "stream",
          "name": "stdout",
          "text": [
            "Shape :  (2, 3)\n",
            "\n",
            "Size Of Array  :  6\n"
          ]
        }
      ]
    },
    {
      "cell_type": "code",
      "source": [
        "arr = np.array([1, 2, 3, 4, 5, 6])\n",
        "new_arr = arr.reshape(2, 3)\n",
        "print(new_arr)\n",
        "print()\n",
        "print(new_arr.ndim)\n",
        "print()\n",
        "print(new_arr.shape)\n",
        "print()\n",
        "print(new_arr.size)\n"
      ],
      "metadata": {
        "colab": {
          "base_uri": "https://localhost:8080/"
        },
        "id": "PuSkZjusVCxd",
        "outputId": "43923994-59b6-4fbd-db8e-a3ec3611497e"
      },
      "execution_count": null,
      "outputs": [
        {
          "output_type": "stream",
          "name": "stdout",
          "text": [
            "[[1 2 3]\n",
            " [4 5 6]]\n",
            "\n",
            "2\n",
            "\n",
            "(2, 3)\n",
            "\n",
            "6\n"
          ]
        }
      ]
    },
    {
      "cell_type": "code",
      "source": [
        "var = np.array([1, 2, 3, 4, 5, 6, 7, 8, 9, 10, 11, 12], ndmin = 5)\n",
        "print(var)\n",
        "print()\n",
        "print(var.ndim)\n",
        "print()\n",
        "print(var.shape)\n",
        "print()\n",
        "print(var.size)\n",
        "print()\n",
        "\n",
        "#reshape(row_number , col_number , elements_count_per_row )\n",
        "new_var = var.reshape(2, 3, 2)\n",
        "print(new_var)\n",
        "print()\n",
        "print(new_var.ndim)\n",
        "print()\n",
        "print(new_var.shape)\n",
        "print()\n",
        "print(new_var.size)\n",
        "\n",
        "print()\n",
        "#convert array into one dimension\n",
        "print(new_var.reshape(-1))"
      ],
      "metadata": {
        "colab": {
          "base_uri": "https://localhost:8080/"
        },
        "id": "pCjs45npVCvh",
        "outputId": "8e09a479-c334-4ded-b079-37f086608bcb"
      },
      "execution_count": null,
      "outputs": [
        {
          "output_type": "stream",
          "name": "stdout",
          "text": [
            "[[[[[ 1  2  3  4  5  6  7  8  9 10 11 12]]]]]\n",
            "\n",
            "5\n",
            "\n",
            "(1, 1, 1, 1, 12)\n",
            "\n",
            "12\n",
            "\n",
            "[[[ 1  2]\n",
            "  [ 3  4]\n",
            "  [ 5  6]]\n",
            "\n",
            " [[ 7  8]\n",
            "  [ 9 10]\n",
            "  [11 12]]]\n",
            "\n",
            "3\n",
            "\n",
            "(2, 3, 2)\n",
            "\n",
            "12\n",
            "\n",
            "[ 1  2  3  4  5  6  7  8  9 10 11 12]\n"
          ]
        }
      ]
    },
    {
      "cell_type": "markdown",
      "source": [
        "# Airthmetic Operation in Numpy Arrays\n",
        "\n",
        "| Operation         | Symbol | NumPy Function         | Example (`a=[10,20,30]`, `b=[1,2,3]`) | Output         |\n",
        "|------------------|--------|------------------------|---------------------------------------|----------------|\n",
        "| Addition         | `+`    | `np.add(a, b)`         | `a + b`                               | `[11 22 33]`   |\n",
        "| Subtraction      | `-`    | `np.subtract(a, b)`    | `a - b`                               | `[9 18 27]`    |\n",
        "| Multiplication   | `*`    | `np.multiply(a, b)`    | `a * b`                               | `[10 40 90]`   |\n",
        "| Division         | `/`    | `np.divide(a, b)`      | `a / b`                               | `[10. 10. 10.]`|\n",
        "| Floor Division   | `//`   | `np.floor_divide(a, b)`| `a // b`                              | `[10 10 10]`   |\n",
        "| Modulus          | `%`    | `np.mod(a, b)`         | `a % b`                               | `[0 0 0]`      |\n",
        "| Power            | `**`   | `np.power(a, b)`       | `a ** b`                              | `[10 400 27000]`|\n"
      ],
      "metadata": {
        "id": "Zvo3hytLZ9vF"
      }
    },
    {
      "cell_type": "code",
      "source": [
        "arr1 = np.array([10,20,30])\n",
        "\n",
        "print(arr1 + 3)\n",
        "print()\n",
        "print(np.add(arr1,3))"
      ],
      "metadata": {
        "colab": {
          "base_uri": "https://localhost:8080/"
        },
        "id": "hXDyTxzldnbl",
        "outputId": "581b02ac-7bca-4b6c-cddf-23bc72d2c1a5"
      },
      "execution_count": null,
      "outputs": [
        {
          "output_type": "stream",
          "name": "stdout",
          "text": [
            "[13 23 33]\n",
            "\n",
            "[13 23 33]\n"
          ]
        }
      ]
    },
    {
      "cell_type": "code",
      "source": [
        "arr1 = np.array([[1,2,3],[4,5,6]])\n",
        "arr2 = np.array([[7,8,9],[10,11,12]])\n",
        "\n",
        "print(arr1 + arr2)\n",
        "print()\n",
        "print(np.add(arr1,arr2))"
      ],
      "metadata": {
        "colab": {
          "base_uri": "https://localhost:8080/"
        },
        "id": "ZvYEWBNMVCtk",
        "outputId": "64e58bc2-f332-4fd7-b0d5-67f8c1aa2d67"
      },
      "execution_count": null,
      "outputs": [
        {
          "output_type": "stream",
          "name": "stdout",
          "text": [
            "[[ 8 10 12]\n",
            " [14 16 18]]\n",
            "\n",
            "[[ 8 10 12]\n",
            " [14 16 18]]\n"
          ]
        }
      ]
    },
    {
      "cell_type": "code",
      "source": [
        "arr1 = np.array([[1,2,3],[4,5,6]])\n",
        "arr2 = np.array([[7,8,9],[10,11,12]])\n",
        "\n",
        "print(arr1 - arr2)\n",
        "print()\n",
        "print(np.subtract(arr1,arr2))"
      ],
      "metadata": {
        "colab": {
          "base_uri": "https://localhost:8080/"
        },
        "id": "YwFxJHZyVCrv",
        "outputId": "16a33b9e-f99a-470c-f556-1fcd1fd90250"
      },
      "execution_count": null,
      "outputs": [
        {
          "output_type": "stream",
          "name": "stdout",
          "text": [
            "[[-6 -6 -6]\n",
            " [-6 -6 -6]]\n",
            "\n",
            "[[-6 -6 -6]\n",
            " [-6 -6 -6]]\n"
          ]
        }
      ]
    },
    {
      "cell_type": "code",
      "source": [
        "arr1 = np.array([[1,2,3],[4,5,6]])\n",
        "arr2 = np.array([[7,8,9],[10,11,12]])\n",
        "\n",
        "print(arr1 * arr2)\n",
        "print()\n",
        "print(np.multiply(arr1,arr2))\n"
      ],
      "metadata": {
        "colab": {
          "base_uri": "https://localhost:8080/"
        },
        "id": "jQhvlgxaVCp2",
        "outputId": "d2d970cb-9150-48de-adf9-0e1497e34351"
      },
      "execution_count": null,
      "outputs": [
        {
          "output_type": "stream",
          "name": "stdout",
          "text": [
            "[[ 7 16 27]\n",
            " [40 55 72]]\n",
            "\n",
            "[[ 7 16 27]\n",
            " [40 55 72]]\n"
          ]
        }
      ]
    },
    {
      "cell_type": "code",
      "source": [
        "arr1 = np.array([[1,2,3],[4,5,6]])\n",
        "arr2 = np.array([[7,8,9],[10,11,12]])\n",
        "\n",
        "print(arr1 / arr2)\n",
        "print()\n",
        "print(np.divide(arr1,arr2))\n"
      ],
      "metadata": {
        "colab": {
          "base_uri": "https://localhost:8080/"
        },
        "id": "-oC3qFY0VCnc",
        "outputId": "4840f20e-e996-4199-eb78-859fe611bda8"
      },
      "execution_count": null,
      "outputs": [
        {
          "output_type": "stream",
          "name": "stdout",
          "text": [
            "[[0.14285714 0.25       0.33333333]\n",
            " [0.4        0.45454545 0.5       ]]\n",
            "\n",
            "[[0.14285714 0.25       0.33333333]\n",
            " [0.4        0.45454545 0.5       ]]\n"
          ]
        }
      ]
    },
    {
      "cell_type": "code",
      "source": [
        "arr1 = np.array([[1,2,3],[4,5,6]])\n",
        "arr2 = np.array([[7,8,9],[10,11,12]])\n",
        "\n",
        "print(arr1 // arr2)\n",
        "print()\n",
        "print(np.floor_divide(arr1,arr2))\n"
      ],
      "metadata": {
        "colab": {
          "base_uri": "https://localhost:8080/"
        },
        "id": "Rvt31wXUVClW",
        "outputId": "7a78e123-f26c-4d58-8f4d-ce76d99f2711"
      },
      "execution_count": null,
      "outputs": [
        {
          "output_type": "stream",
          "name": "stdout",
          "text": [
            "[[0 0 0]\n",
            " [0 0 0]]\n",
            "\n",
            "[[0 0 0]\n",
            " [0 0 0]]\n"
          ]
        }
      ]
    },
    {
      "cell_type": "code",
      "source": [
        "arr1 = np.array([[1,2,3],[4,5,6]])\n",
        "arr2 = np.array([[7,8,9],[10,11,12]])\n",
        "\n",
        "print(arr1 % arr2)\n",
        "print()\n",
        "print(np.mod(arr1,arr2))"
      ],
      "metadata": {
        "colab": {
          "base_uri": "https://localhost:8080/"
        },
        "id": "mpsnfiy9eVHy",
        "outputId": "07070a0a-6b54-42da-cc51-22d8f6db8820"
      },
      "execution_count": null,
      "outputs": [
        {
          "output_type": "stream",
          "name": "stdout",
          "text": [
            "[[1 2 3]\n",
            " [4 5 6]]\n",
            "\n",
            "[[1 2 3]\n",
            " [4 5 6]]\n"
          ]
        }
      ]
    },
    {
      "cell_type": "code",
      "source": [
        "arr1 = np.array([[1,2,3],[4,5,6]])\n",
        "arr2 = np.array([[7,8,9],[10,11,12]])\n",
        "\n",
        "print(arr1 ** arr2)\n",
        "print()\n",
        "print(np.power(arr1,arr2))"
      ],
      "metadata": {
        "colab": {
          "base_uri": "https://localhost:8080/"
        },
        "id": "A3k8RH2UeVEI",
        "outputId": "e60d1579-dde8-4a1d-ac13-594745a2e348"
      },
      "execution_count": null,
      "outputs": [
        {
          "output_type": "stream",
          "name": "stdout",
          "text": [
            "[[         1        256      19683]\n",
            " [   1048576   48828125 2176782336]]\n",
            "\n",
            "[[         1        256      19683]\n",
            " [   1048576   48828125 2176782336]]\n"
          ]
        }
      ]
    },
    {
      "cell_type": "code",
      "source": [
        "#reciprocal\n",
        "arr1 = np.array([1,2,3])\n",
        "print(np.reciprocal(arr1))"
      ],
      "metadata": {
        "colab": {
          "base_uri": "https://localhost:8080/"
        },
        "id": "dosUKC0zeU3t",
        "outputId": "ceb6b2cd-54a3-4be3-8175-194c60af5a7c"
      },
      "execution_count": null,
      "outputs": [
        {
          "output_type": "stream",
          "name": "stdout",
          "text": [
            "[1 0 0]\n"
          ]
        }
      ]
    },
    {
      "cell_type": "markdown",
      "source": [
        "#Basic Airthmetic functions\n",
        "\n",
        "min\n",
        "\n",
        "max\n",
        "\n",
        "argmin\n",
        "\n",
        "sqrt\n",
        "\n",
        "sin\n",
        "\n",
        "cos\n",
        "\n",
        "cumsum\n",
        "\n",
        "| Function Name         | Syntax / Usage      | Description                                      | Example                                   | Output            |\n",
        "|-----------------------|---------------------|--------------------------------------------------|-------------------------------------------|-------------------|\n",
        "| `abs()` / `absolute()`| `np.abs(a)`         | Absolute value of each element                   | `np.abs([-1, -2, 3])`                      | `[1 2 3]`         |\n",
        "| `sqrt()`              | `np.sqrt(a)`        | Square root of each element                      | `np.sqrt([1, 4, 9])`                       | `[1. 2. 3.]`      |\n",
        "| `exp()`               | `np.exp(a)`         | Exponential (e^x) of each element                | `np.exp([1, 2])`                           | `[2.718 7.389]`   |\n",
        "| `log()`               | `np.log(a)`         | Natural logarithm (base e)                       | `np.log([1, np.e])`                        | `[0. 1.]`         |\n",
        "| `log10()`             | `np.log10(a)`       | Base-10 logarithm of each element                | `np.log10([1, 10, 100])`                  | `[0. 1. 2.]`      |\n",
        "| `log2()`              | `np.log2(a)`        | Base-2 logarithm of each element                 | `np.log2([1, 2, 4])`                       | `[0. 1. 2.]`      |\n",
        "| `max()`               | `np.max(a)`         | Maximum element in the array                     | `np.max([4, 7, 2])`                        | `7`               |\n",
        "| `min()`               | `np.min(a)`         | Minimum element in the array                     | `np.min([4, 7, 2])`                        | `2`               |\n",
        "| `sum()`               | `np.sum(a)`         | Sum of all elements                              | `np.sum([1, 2, 3])`                        | `6`               |\n",
        "| `mean()`              | `np.mean(a)`        | Mean (average) of the array                      | `np.mean([1, 2, 3])`                       | `2.0`             |\n",
        "| `median()`            | `np.median(a)`      | Median of the array                              | `np.median([1, 3, 2])`                     | `2.0`             |\n",
        "| `std()`               | `np.std(a)`         | Standard deviation                               | `np.std([1, 2, 3])`                        | `0.816`           |\n",
        "| `var()`               | `np.var(a)`         | Variance                                         | `np.var([1, 2, 3])`                        | `0.666...`        |\n",
        "| `round()`             | `np.round(a, n)`    | Round to `n` decimals                            | `np.round([1.234, 5.678], 1)`              | `[1.2 5.7]`       |\n",
        "| `floor()`             | `np.floor(a)`       | Floor (round down) each element                  | `np.floor([1.9, 2.1])`                     | `[1. 2.]`         |\n",
        "| `ceil()`              | `np.ceil(a)`        | Ceil (round up) each element                     | `np.ceil([1.2, 2.8])`                      | `[2. 3.]`         |\n"
      ],
      "metadata": {
        "id": "56gKGxpzgaHD"
      }
    },
    {
      "cell_type": "code",
      "source": [
        "arr_min = np.array([4,7,2])\n",
        "print(\"Minimum value : \",np.min(arr_min))\n",
        "print(\"Maximum value : \",np.max(arr_min))\n",
        "print(\"Minimum value index : \",np.argmin(arr_min)) # shows index number\n",
        "print(\"Maximum value index : \",np.argmax(arr_min))  # shows index number"
      ],
      "metadata": {
        "colab": {
          "base_uri": "https://localhost:8080/"
        },
        "id": "4IiIQ8nifHhl",
        "outputId": "53a8bf6a-4b7e-4400-be75-337806b9f6f1"
      },
      "execution_count": null,
      "outputs": [
        {
          "output_type": "stream",
          "name": "stdout",
          "text": [
            "Minimum value :  2\n",
            "Maximum value :  7\n",
            "Minimum value index :  2\n",
            "Maximum value index :  1\n"
          ]
        }
      ]
    },
    {
      "cell_type": "code",
      "source": [
        "var1 = np.array([[1,2,3,4,5],[11,20,30,55,40]])\n",
        "#axis = 0  work accordingly column\n",
        "#axis = 1 work accordingly rowwise\n",
        "print(np.min(var1,axis=1))\n",
        "print(np.max(var1,axis=1))"
      ],
      "metadata": {
        "colab": {
          "base_uri": "https://localhost:8080/"
        },
        "id": "QaNHLgAYfHeO",
        "outputId": "63a36f43-e1b0-4e92-9dfc-77a4df542a6a"
      },
      "execution_count": null,
      "outputs": [
        {
          "output_type": "stream",
          "name": "stdout",
          "text": [
            "[ 1 11]\n",
            "[ 5 55]\n"
          ]
        }
      ]
    },
    {
      "cell_type": "code",
      "source": [
        "arr = np.array([1, 2, 3, 4, 5])\n",
        "print(np.sqrt(arr))"
      ],
      "metadata": {
        "colab": {
          "base_uri": "https://localhost:8080/"
        },
        "id": "loKdKSnPfHcH",
        "outputId": "cc1e51b2-143d-476f-b1ad-4c73b45f8551"
      },
      "execution_count": null,
      "outputs": [
        {
          "output_type": "stream",
          "name": "stdout",
          "text": [
            "[1.         1.41421356 1.73205081 2.         2.23606798]\n"
          ]
        }
      ]
    },
    {
      "cell_type": "code",
      "source": [
        "arr = np.array([1, 2, 3, 4, 5])\n",
        "print(np.sin(arr))"
      ],
      "metadata": {
        "colab": {
          "base_uri": "https://localhost:8080/"
        },
        "id": "QWH5qH0tfHaC",
        "outputId": "6a640dcb-bd9d-4778-c58a-0ad6bfa7d986"
      },
      "execution_count": null,
      "outputs": [
        {
          "output_type": "stream",
          "name": "stdout",
          "text": [
            "[ 0.84147098  0.90929743  0.14112001 -0.7568025  -0.95892427]\n"
          ]
        }
      ]
    },
    {
      "cell_type": "code",
      "source": [
        "arr = np.array([1, 2, 3, 4, 5])\n",
        "print(np.cos(arr))"
      ],
      "metadata": {
        "colab": {
          "base_uri": "https://localhost:8080/"
        },
        "id": "C9gld1TnfHLL",
        "outputId": "a470f38e-875c-4282-e9d1-afd215a303a0"
      },
      "execution_count": null,
      "outputs": [
        {
          "output_type": "stream",
          "name": "stdout",
          "text": [
            "[ 0.54030231 -0.41614684 -0.9899925  -0.65364362  0.28366219]\n"
          ]
        }
      ]
    },
    {
      "cell_type": "code",
      "source": [
        "arr = np.array([0,1, 2, 3, 4, 5])\n",
        "print(np.cumsum(arr))"
      ],
      "metadata": {
        "colab": {
          "base_uri": "https://localhost:8080/"
        },
        "id": "xmg_mPMFfHIV",
        "outputId": "fd3ad981-600f-42e7-da89-46abfd7783a3"
      },
      "execution_count": null,
      "outputs": [
        {
          "output_type": "stream",
          "name": "stdout",
          "text": [
            "[ 0  1  3  6 10 15]\n"
          ]
        }
      ]
    },
    {
      "cell_type": "code",
      "source": [
        "arr = np.array([1, 2, 3, 4, 5])\n",
        "print(np.cumprod(arr))"
      ],
      "metadata": {
        "colab": {
          "base_uri": "https://localhost:8080/"
        },
        "id": "Sp52B6owfHFe",
        "outputId": "27c2d154-b01a-4e5a-e7b5-ab0e0a04759a"
      },
      "execution_count": null,
      "outputs": [
        {
          "output_type": "stream",
          "name": "stdout",
          "text": [
            "[  1   2   6  24 120]\n"
          ]
        }
      ]
    },
    {
      "cell_type": "markdown",
      "source": [
        "#Broadcasting numpy arrays\n",
        "\n",
        "✅ Broadcasting in NumPy Arrays\n",
        "Broadcasting is a powerful feature in NumPy that allows arithmetic operations on arrays of different shapes and sizes — without explicitly reshaping or looping.\n",
        "\n",
        "🔹 Why Broadcasting?\n",
        "To perform operations between arrays of different shapes, NumPy automatically expands one array to match the shape of the other, without actually copying data.\n",
        "\n",
        "🔸 Broadcasting Rules\n",
        "For two arrays to be broadcastable, the shapes must be compatible using the following rules:\n",
        "\n",
        "If the dimensions are not equal, prepend 1s to the shape of the smaller array.\n",
        "\n",
        "Dimensions are compatible if:\n",
        "\n",
        "They are equal, or\n",
        "\n",
        "One of them is 1\n",
        "\n"
      ],
      "metadata": {
        "id": "Mwp9GY9jlJuT"
      }
    },
    {
      "cell_type": "code",
      "source": [
        "import numpy as np\n",
        "arr1 = np.array([[1,2,3],[4,5,6]])\n",
        "print(\"Shape : \",arr1.shape)\n",
        "print()\n",
        "print(arr1)\n",
        "print()\n",
        "arr2 = np.array([7,8,9])\n",
        "print(\"Shape : \",arr2.shape)\n",
        "print()\n",
        "print(arr2)\n",
        "print()\n",
        "print(arr1 + arr2)"
      ],
      "metadata": {
        "id": "khiSrqXgfHB2",
        "colab": {
          "base_uri": "https://localhost:8080/"
        },
        "outputId": "d7ad3a63-0a70-428d-f078-6495436d02a2"
      },
      "execution_count": null,
      "outputs": [
        {
          "output_type": "stream",
          "name": "stdout",
          "text": [
            "Shape :  (2, 3)\n",
            "\n",
            "[[1 2 3]\n",
            " [4 5 6]]\n",
            "\n",
            "Shape :  (3,)\n",
            "\n",
            "[7 8 9]\n",
            "\n",
            "[[ 8 10 12]\n",
            " [11 13 15]]\n"
          ]
        }
      ]
    },
    {
      "cell_type": "code",
      "source": [
        "x = np.array([[1],[2]])\n",
        "print(x.shape)\n",
        "print()\n",
        "\n",
        "y = np.array([[1,2,3],[1,2,3]])\n",
        "print(y.shape)\n",
        "print()\n",
        "\n",
        "print(x + y)"
      ],
      "metadata": {
        "id": "t0v3RFLFfG_c",
        "colab": {
          "base_uri": "https://localhost:8080/"
        },
        "outputId": "4f63483e-c1a0-4e09-fd64-deb49198ee15"
      },
      "execution_count": null,
      "outputs": [
        {
          "output_type": "stream",
          "name": "stdout",
          "text": [
            "(2, 1)\n",
            "\n",
            "(2, 3)\n",
            "\n",
            "[[2 3 4]\n",
            " [3 4 5]]\n"
          ]
        }
      ]
    },
    {
      "cell_type": "markdown",
      "source": [
        "#Indexing Numpy Arrays\n",
        "\n",
        "\n",
        "Array indexing in NumPy refers to the method of accessing specific elements or subsets of data within an array. This feature allows us to retrieve, modify and manipulate data at specific positions or ranges helps in making it easier to work with large datasets.\n",
        "\n",
        "\n",
        "1. Accessing Elements in 1D Arrays\n",
        "A 1D NumPy array is a sequence of values with positions called indices which starts at 0. We access elements by using these indices in square brackets like arr[0] for the first element. Negative indices count from the end so arr[-1] gives the last element."
      ],
      "metadata": {
        "id": "jWkEDP9r4pXo"
      }
    },
    {
      "cell_type": "code",
      "source": [
        "import numpy as np\n",
        "\n",
        "var =  np.array([1,2,3,4,5,6])\n",
        "#positive indexing\n",
        "print(var[2])\n",
        "#negative indexing\n",
        "print(var[-1])"
      ],
      "metadata": {
        "id": "G5X_7-F5fG9Y",
        "colab": {
          "base_uri": "https://localhost:8080/"
        },
        "outputId": "2eebd6dd-e892-4d6f-fe19-9c37593cf3a0"
      },
      "execution_count": null,
      "outputs": [
        {
          "output_type": "stream",
          "name": "stdout",
          "text": [
            "3\n",
            "6\n"
          ]
        }
      ]
    },
    {
      "cell_type": "markdown",
      "source": [
        "2. Accessing Elements in Multidimensional Arrays\n",
        "In this we will see how to access elements in both 2D and 3D arrays using specific indices.\n",
        "\n",
        "2D Arrays: We can access elements by specifying both row and column indices like matrix[row, column]."
      ],
      "metadata": {
        "id": "PufTZJxt19cH"
      }
    },
    {
      "cell_type": "code",
      "source": [
        "arr1 = np.array([[1,2,3],[4,5,6]])\n",
        "print(arr1)\n",
        "print()\n",
        "print(arr1.ndim)\n",
        "print()\n",
        "print(arr1[1,2])"
      ],
      "metadata": {
        "id": "aZI4I50ufG7R",
        "colab": {
          "base_uri": "https://localhost:8080/"
        },
        "outputId": "a272ecff-f617-4384-c9c4-56ca14e61672"
      },
      "execution_count": null,
      "outputs": [
        {
          "output_type": "stream",
          "name": "stdout",
          "text": [
            "[[1 2 3]\n",
            " [4 5 6]]\n",
            "\n",
            "2\n",
            "\n",
            "6\n"
          ]
        }
      ]
    },
    {
      "cell_type": "code",
      "source": [
        "arr1 = np.array([[[1,2,3],[4,5,6]],[[7,8,9],[10,11,12]]])\n",
        "print(arr1)\n",
        "print()\n",
        "print(arr1.ndim)\n",
        "print()\n",
        "print(arr1[1,1,2])"
      ],
      "metadata": {
        "id": "sGcHzgdMfG5Q",
        "colab": {
          "base_uri": "https://localhost:8080/"
        },
        "outputId": "065ff485-6b38-48e1-c394-ae71aa570a21"
      },
      "execution_count": null,
      "outputs": [
        {
          "output_type": "stream",
          "name": "stdout",
          "text": [
            "[[[ 1  2  3]\n",
            "  [ 4  5  6]]\n",
            "\n",
            " [[ 7  8  9]\n",
            "  [10 11 12]]]\n",
            "\n",
            "3\n",
            "\n",
            "12\n"
          ]
        }
      ]
    },
    {
      "cell_type": "markdown",
      "source": [
        "3. Slicing Arrays\n",
        "It allows us to extract a range of elements using the format start:stop:step. This can be done for both 1D and multidimensional arrays which allows us to select ranges of elements or submatrices easily."
      ],
      "metadata": {
        "id": "AyNqktXt2InN"
      }
    },
    {
      "cell_type": "code",
      "source": [
        "arr = np.array([0, 1, 2, 3, 4, 5])\n",
        "\n",
        "print(arr[1:4])\n",
        "\n",
        "print(arr[2:])\n",
        "\n",
        "print(arr[:4])\n",
        "\n",
        "print(arr[-3:-1])\n",
        "\n",
        "print(arr[1:5:2])"
      ],
      "metadata": {
        "id": "MwBCzYJVfG3U",
        "colab": {
          "base_uri": "https://localhost:8080/"
        },
        "outputId": "1648e5fd-110e-45a3-d382-289b09456d85"
      },
      "execution_count": null,
      "outputs": [
        {
          "output_type": "stream",
          "name": "stdout",
          "text": [
            "[1 2 3]\n",
            "[2 3 4 5]\n",
            "[0 1 2 3]\n",
            "[3 4]\n",
            "[1 3]\n"
          ]
        }
      ]
    },
    {
      "cell_type": "code",
      "source": [
        "#2d and 3d array slicing\n",
        "\n",
        "arr1 = np.array([[1, 2, 3, 4, 5], [6, 7, 8, 9, 10]])\n",
        "print(arr1[1, 1:4])\n",
        "print()\n",
        "arr2 = np.array([[[1, 2, 3], [4, 5, 6]], [[7, 8, 9], [10, 11, 12]]])\n",
        "print(arr2[0, 1, 1:3])"
      ],
      "metadata": {
        "colab": {
          "base_uri": "https://localhost:8080/"
        },
        "id": "FlcMS5G32h3c",
        "outputId": "b7224be9-bf47-4010-b79d-b55130507c56"
      },
      "execution_count": null,
      "outputs": [
        {
          "output_type": "stream",
          "name": "stdout",
          "text": [
            "[7 8 9]\n",
            "[5 6]\n"
          ]
        }
      ]
    },
    {
      "cell_type": "markdown",
      "source": [
        "4. Boolean Indexing\n",
        "It allows us to filter elements from an array based on a condition and returns only those that meet it. We create a boolean array from a condition and use it to select elements and can combine conditions with logical operators."
      ],
      "metadata": {
        "id": "ok9XIMxf321M"
      }
    },
    {
      "cell_type": "code",
      "source": [
        "arr = np.array([1, 2, 3, 4, 5])\n",
        "print(arr[arr > 2])\n",
        "\n",
        "print()\n",
        "print(arr[arr % 2 == 0])\n"
      ],
      "metadata": {
        "colab": {
          "base_uri": "https://localhost:8080/"
        },
        "id": "LmSwobf_2hy2",
        "outputId": "6aaa370b-0420-4a70-b21c-532374cf3baf"
      },
      "execution_count": null,
      "outputs": [
        {
          "output_type": "stream",
          "name": "stdout",
          "text": [
            "[3 4 5]\n",
            "\n",
            "[2 4]\n"
          ]
        }
      ]
    },
    {
      "cell_type": "markdown",
      "source": [
        "5. What is Fancy Indexing?\n",
        "Fancy indexing (also called advanced indexing) allows you to:\n",
        "\n",
        "Access multiple elements at once\n",
        "\n",
        "Use a list or NumPy array of indices\n",
        "\n",
        "Select non-contiguous elements (they don’t have to be next to each other)\n",
        "\n"
      ],
      "metadata": {
        "id": "XwsDxiwG4oFN"
      }
    },
    {
      "cell_type": "code",
      "source": [
        "arr = np.array([10, 20, 30, 40, 50])\n",
        "indices = [0, 2, 4]\n",
        "print(arr[indices])"
      ],
      "metadata": {
        "colab": {
          "base_uri": "https://localhost:8080/"
        },
        "id": "MFJ_R7hF2huc",
        "outputId": "8bd69a48-dd7d-4835-84c3-ac262ae50f7e"
      },
      "execution_count": null,
      "outputs": [
        {
          "output_type": "stream",
          "name": "stdout",
          "text": [
            "[10 30 50]\n"
          ]
        }
      ]
    },
    {
      "cell_type": "code",
      "source": [
        "arr = np.array([[1, 2, 3], [4, 5, 6], [7, 8, 9]])\n",
        "indices = [0, 2 ]\n",
        "print(arr[indices])"
      ],
      "metadata": {
        "colab": {
          "base_uri": "https://localhost:8080/"
        },
        "id": "bUWd7pZv2hpo",
        "outputId": "bafc474a-0897-43b7-9c1f-fb8feceb2992"
      },
      "execution_count": null,
      "outputs": [
        {
          "output_type": "stream",
          "name": "stdout",
          "text": [
            "[[1 2 3]\n",
            " [7 8 9]]\n"
          ]
        }
      ]
    },
    {
      "cell_type": "code",
      "source": [
        "arr = np.array([[1, 2, 3], [4, 5, 6], [7, 8, 9]])\n",
        "indices = np.array([[0, 1], [1, 2]])\n",
        "print(arr[indices])"
      ],
      "metadata": {
        "colab": {
          "base_uri": "https://localhost:8080/"
        },
        "id": "zH1fyVhD2hlZ",
        "outputId": "a05741ba-7d11-4c2e-df41-29f9e8a4f08b"
      },
      "execution_count": null,
      "outputs": [
        {
          "output_type": "stream",
          "name": "stdout",
          "text": [
            "[[[1 2 3]\n",
            "  [4 5 6]]\n",
            "\n",
            " [[4 5 6]\n",
            "  [7 8 9]]]\n"
          ]
        }
      ]
    },
    {
      "cell_type": "code",
      "source": [
        "arr = np.array([10, 20, 30, 40, 50])\n",
        "indices = np.array([True, False, True, False, True])\n",
        "print(arr[indices])"
      ],
      "metadata": {
        "colab": {
          "base_uri": "https://localhost:8080/"
        },
        "id": "vxkvigAP2hhD",
        "outputId": "4df48cae-2336-4a4c-97af-f2df3ed0a643"
      },
      "execution_count": null,
      "outputs": [
        {
          "output_type": "stream",
          "name": "stdout",
          "text": [
            "[10 30 50]\n"
          ]
        }
      ]
    },
    {
      "cell_type": "code",
      "source": [
        "arr = np.array([[1, 2, 3], [4, 5, 6], [7, 8, 9]])\n",
        "indices = np.array([[True, False, True], [False, True, False], [True, False, True]])\n",
        "print(arr[indices])"
      ],
      "metadata": {
        "colab": {
          "base_uri": "https://localhost:8080/"
        },
        "id": "w9n2BsGJ2hct",
        "outputId": "c4b3a80f-ab51-42e0-bf8f-96da2717752d"
      },
      "execution_count": null,
      "outputs": [
        {
          "output_type": "stream",
          "name": "stdout",
          "text": [
            "[1 3 5 7 9]\n"
          ]
        }
      ]
    },
    {
      "cell_type": "code",
      "source": [
        "#3d array\n",
        "arr = np.array([[[1, 2, 3], [4, 5, 6]], [[7, 8, 9], [10, 11, 12]]])\n",
        "indices = np.array([[[True, False, True], [False, True, False]], [[True, False, True], [False, True, False]]])\n",
        "print(arr[indices])"
      ],
      "metadata": {
        "colab": {
          "base_uri": "https://localhost:8080/"
        },
        "id": "cMqs8fjT2hYZ",
        "outputId": "de1007b7-ee7a-455e-9029-beda4765f96f"
      },
      "execution_count": null,
      "outputs": [
        {
          "output_type": "stream",
          "name": "stdout",
          "text": [
            "[ 1  3  5  7  9 11]\n"
          ]
        }
      ]
    },
    {
      "cell_type": "markdown",
      "source": [
        "#Iterating Numpy Arrays"
      ],
      "metadata": {
        "id": "zOdIafav6Zlt"
      }
    },
    {
      "cell_type": "code",
      "source": [
        "arr1 = np.array([1,2,3,4,5])\n",
        "#using for loop\n",
        "for i in arr1:\n",
        "  print(i, end=\" \")"
      ],
      "metadata": {
        "colab": {
          "base_uri": "https://localhost:8080/"
        },
        "id": "Z4dXVU4X2hUB",
        "outputId": "b66bc2f9-7af2-4a40-b1ac-659398bbf465"
      },
      "execution_count": null,
      "outputs": [
        {
          "output_type": "stream",
          "name": "stdout",
          "text": [
            "1 2 3 4 5 "
          ]
        }
      ]
    },
    {
      "cell_type": "code",
      "source": [
        "#2d array\n",
        "arr2 = np.array([[1,2,3],[4,5,6]])\n",
        "\n",
        "for i in arr2:\n",
        "  print(i)\n",
        "\n",
        "print()\n",
        "\n",
        "for i in arr2:\n",
        "  for j in i:\n",
        "    print(j, end=\" \")\n"
      ],
      "metadata": {
        "colab": {
          "base_uri": "https://localhost:8080/"
        },
        "id": "c4-BVp9O2hPI",
        "outputId": "0acb7927-54f9-4405-9bb7-45c19522a784"
      },
      "execution_count": null,
      "outputs": [
        {
          "output_type": "stream",
          "name": "stdout",
          "text": [
            "[1 2 3]\n",
            "[4 5 6]\n",
            "\n",
            "1 2 3 4 5 6 "
          ]
        }
      ]
    },
    {
      "cell_type": "code",
      "source": [
        "#multidimensional array\n",
        "arr3 = np.array([[[1,2,3],[4,5,6]],[[7,8,9],[10,11,12]]])\n",
        "\n",
        "for i in arr3:\n",
        "  print(i)\n",
        "\n",
        "print()\n",
        "\n",
        "for i in arr3:\n",
        "  for j in i:\n",
        "    for k in j:\n",
        "      print(k, end=\" \")"
      ],
      "metadata": {
        "colab": {
          "base_uri": "https://localhost:8080/"
        },
        "id": "VzyGdRI07AAr",
        "outputId": "c1d59730-fc2c-49ac-b0f3-1e93759015ed"
      },
      "execution_count": null,
      "outputs": [
        {
          "output_type": "stream",
          "name": "stdout",
          "text": [
            "[[1 2 3]\n",
            " [4 5 6]]\n",
            "[[ 7  8  9]\n",
            " [10 11 12]]\n",
            "\n",
            "1 2 3 4 5 6 7 8 9 10 11 12 "
          ]
        }
      ]
    },
    {
      "cell_type": "code",
      "source": [
        "#multidimensional array\n",
        "arr3 = np.array([[[1,2,3],[4,5,6]],[[7,8,9],[10,11,12]]])\n",
        "\n",
        "#nditer function used to iteration\n",
        "for i in np.nditer(arr3):\n",
        "  print(i, end=\" \")\n",
        "\n",
        "print()\n",
        "\n",
        "for i in np.nditer(arr3, flags=['buffered'], op_dtypes=['S']):\n",
        "  print(i)\n",
        "\n",
        "print()\n",
        "\n",
        "#accessing the indexing number with elements\n",
        "for index,data in np.ndenumerate(arr3):\n",
        "  print(index,\" = \",data)\n",
        "\n",
        "print()\n",
        "\n"
      ],
      "metadata": {
        "colab": {
          "base_uri": "https://localhost:8080/"
        },
        "id": "bqVOkfai6_-A",
        "outputId": "266f4b10-ce87-40e4-e7e3-a0f99d5884ab"
      },
      "execution_count": null,
      "outputs": [
        {
          "output_type": "stream",
          "name": "stdout",
          "text": [
            "1 2 3 4 5 6 7 8 9 10 11 12 \n",
            "np.bytes_(b'1')\n",
            "np.bytes_(b'2')\n",
            "np.bytes_(b'3')\n",
            "np.bytes_(b'4')\n",
            "np.bytes_(b'5')\n",
            "np.bytes_(b'6')\n",
            "np.bytes_(b'7')\n",
            "np.bytes_(b'8')\n",
            "np.bytes_(b'9')\n",
            "np.bytes_(b'10')\n",
            "np.bytes_(b'11')\n",
            "np.bytes_(b'12')\n",
            "\n",
            "(0, 0, 0)  =  1\n",
            "(0, 0, 1)  =  2\n",
            "(0, 0, 2)  =  3\n",
            "(0, 1, 0)  =  4\n",
            "(0, 1, 1)  =  5\n",
            "(0, 1, 2)  =  6\n",
            "(1, 0, 0)  =  7\n",
            "(1, 0, 1)  =  8\n",
            "(1, 0, 2)  =  9\n",
            "(1, 1, 0)  =  10\n",
            "(1, 1, 1)  =  11\n",
            "(1, 1, 2)  =  12\n",
            "\n"
          ]
        }
      ]
    },
    {
      "cell_type": "markdown",
      "source": [
        "#Copy vs View in numpy array\n",
        "\n",
        "✅ Difference Between copy() and view() in NumPy\n",
        "\n",
        "🔹 copy():\n",
        "Creates a completely new and independent array.\n",
        "\n",
        "Changes made to the copied array do not affect the original array.\n",
        "\n",
        "Allocates new memory space for the copied data.\n",
        "\n",
        "Used when you want to preserve the original array.\n",
        "\n",
        "copy().base returns None, indicating no shared memory.\n",
        "\n",
        "🔹 view():\n",
        "Creates a new array object, but the data is shared with the original.\n",
        "\n",
        "Changes made to the view will reflect in the original array.\n",
        "\n",
        "Does not allocate new memory for the data — only a new view object.\n",
        "\n",
        "Useful for efficient memory usage.\n",
        "\n",
        "view().base returns a reference to the original array.\n"
      ],
      "metadata": {
        "id": "c5n5qNXd_tJ9"
      }
    },
    {
      "cell_type": "code",
      "source": [
        "var = np.array([1,2,3,4])\n",
        "\n",
        "co = var.copy()\n",
        "\n",
        "print(\"Original Array : \",var)\n",
        "print()\n",
        "print(\"Copy Array : \",co)\n",
        "\n",
        "co[1] = 100\n",
        "var[2] = 500\n",
        "print()\n",
        "print(\"Original Array : \",var)\n",
        "print()\n",
        "print(\"Copy Array : \",co)\n",
        "\n",
        "print()\n",
        "print(\"Original Array Reference : \",id(var))\n",
        "print()\n",
        "print(\"Copy Array Reference : \",id(co))\n"
      ],
      "metadata": {
        "colab": {
          "base_uri": "https://localhost:8080/"
        },
        "id": "nTr27inO6_7N",
        "outputId": "2c33866a-e64b-4fa8-d33a-e056bff17ce0"
      },
      "execution_count": null,
      "outputs": [
        {
          "output_type": "stream",
          "name": "stdout",
          "text": [
            "Original Array :  [1 2 3 4]\n",
            "\n",
            "Copy Array :  [1 2 3 4]\n",
            "\n",
            "Original Array :  [  1   2 500   4]\n",
            "\n",
            "Copy Array :  [  1 100   3   4]\n",
            "\n",
            "Original Array Reference :  133830551370032\n",
            "\n",
            "Copy Array Reference :  133830551449744\n"
          ]
        }
      ]
    },
    {
      "cell_type": "code",
      "source": [
        "x  = np.array([1,2,3,4])\n",
        "\n",
        "vi = x.view()\n",
        "print(\"Array : \",x)\n",
        "print()\n",
        "print(\"View Array : \",vi)\n",
        "\n",
        "vi[1] = 100\n",
        "x[3] = 200\n",
        "\n",
        "print()\n",
        "print(\"Array : \",x)\n",
        "print()\n",
        "print(\"View Array : \",vi)\n",
        "\n",
        "print()\n",
        "print(\"Original Array Reference : \",id(x))\n",
        "print()\n",
        "print(\"View Array Reference : \",id(vi))\n"
      ],
      "metadata": {
        "colab": {
          "base_uri": "https://localhost:8080/"
        },
        "id": "kweXiIiq6_47",
        "outputId": "9d87e4e0-f661-4484-c988-80c3aea7c27e"
      },
      "execution_count": null,
      "outputs": [
        {
          "output_type": "stream",
          "name": "stdout",
          "text": [
            "Array :  [1 2 3 4]\n",
            "\n",
            "View Array :  [1 2 3 4]\n",
            "\n",
            "Array :  [  1 100   3 200]\n",
            "\n",
            "View Array :  [  1 100   3 200]\n",
            "\n",
            "Original Array Reference :  133830551665520\n",
            "\n",
            "View Array Reference :  133830551452912\n"
          ]
        }
      ]
    },
    {
      "cell_type": "markdown",
      "source": [
        "#Join And Split Functions in numpy array\n",
        "\n",
        "🔹 Join Functions (Combining Arrays)\n",
        "Joining means combining two or more arrays into one.\n",
        "\n",
        "NumPy provides multiple functions to join arrays along different axes.\n",
        "\n",
        "Arrays must be of compatible shapes for the axis along which they are joined.\n",
        "\n",
        "Common Join Functions:\n",
        "\n",
        "np.concatenate() – joins along an existing axis.\n",
        "\n",
        "np.stack() – joins along a new axis (adds dimension).\n",
        "\n",
        "np.hstack() – joins arrays horizontally (columns).\n",
        "\n",
        "np.vstack() – joins arrays vertically (rows).\n",
        "\n",
        "np.dstack() – joins arrays along the depth (3rd axis).\n",
        "\n",
        "🔹 Split Functions (Dividing Arrays)\n",
        "Splitting means breaking an array into smaller sub-arrays.\n",
        "\n",
        "NumPy provides various split functions for equal and unequal parts.\n",
        "\n",
        "The number of splits must evenly divide the axis (except array_split()).\n",
        "\n",
        "Common Split Functions:\n",
        "\n",
        "np.split() – splits into equal parts along a specified axis.\n",
        "\n",
        "np.array_split() – allows unequal splits.\n",
        "\n",
        "np.hsplit() – splits horizontally (columns).\n",
        "\n",
        "np.vstack() – splits vertically (rows).\n",
        "\n",
        "np.dsplit() – splits along the depth (3rd axis).\n",
        "\n",
        "\n",
        "| Category | Function         | Description                                  | Axis Affected     |\n",
        "|----------|------------------|----------------------------------------------|-------------------|\n",
        "| Join     | `concatenate()`  | Join arrays along an existing axis           | Any existing axis |\n",
        "| Join     | `stack()`        | Join arrays along a new axis                 | New axis          |\n",
        "| Join     | `hstack()`       | Horizontal stack (side by side)              | Axis = 1          |\n",
        "| Join     | `vstack()`       | Vertical stack (top-bottom)                  | Axis = 0          |\n",
        "| Join     | `dstack()`       | Stack along depth (3rd axis)                 | Axis = 2          |\n",
        "| Split    | `split()`        | Split into equal parts                       | Any existing axis |\n",
        "| Split    | `array_split()`  | Split into unequal parts                     | Any axis          |\n",
        "| Split    | `hsplit()`       | Horizontal split (by columns)                | Axis = 1          |\n",
        "| Split    | `vsplit()`       | Vertical split (by rows)                     | Axis = 0          |\n",
        "| Split    | `dsplit()`       | Split along depth (3D arrays only)           | Axis = 2          |\n",
        "\n",
        "\n"
      ],
      "metadata": {
        "id": "mYH1rCzlCEB7"
      }
    },
    {
      "cell_type": "code",
      "source": [
        "arr1 = np.array([1,2,3,4])\n",
        "arr2 = np.array([5,6,7,8])\n",
        "\n",
        "arr = np.concatenate((arr1,arr2))\n",
        "print(arr)\n"
      ],
      "metadata": {
        "colab": {
          "base_uri": "https://localhost:8080/"
        },
        "id": "y9bixdyo6_1_",
        "outputId": "4de5314e-0a26-4d1f-d747-732065a5e7b3"
      },
      "execution_count": null,
      "outputs": [
        {
          "output_type": "stream",
          "name": "stdout",
          "text": [
            "[1 2 3 4 5 6 7 8]\n"
          ]
        }
      ]
    },
    {
      "cell_type": "code",
      "source": [
        "arr1 = np.array([[1,2,3],[4,5,6]])\n",
        "arr2 = np.array([[7,8,9],[10,11,12]])\n",
        "\n",
        "arr = np.concatenate((arr1,arr2),axis=1)\n",
        "print(arr)\n",
        "print()\n",
        "arr = np.concatenate((arr1,arr2),axis=0)\n",
        "print(arr)"
      ],
      "metadata": {
        "colab": {
          "base_uri": "https://localhost:8080/"
        },
        "id": "LEjVxJ7i6_0D",
        "outputId": "7e5371f0-5b58-4e8f-9460-fadd31bc5a9a"
      },
      "execution_count": null,
      "outputs": [
        {
          "output_type": "stream",
          "name": "stdout",
          "text": [
            "[[ 1  2  3  7  8  9]\n",
            " [ 4  5  6 10 11 12]]\n",
            "\n",
            "[[ 1  2  3]\n",
            " [ 4  5  6]\n",
            " [ 7  8  9]\n",
            " [10 11 12]]\n"
          ]
        }
      ]
    },
    {
      "cell_type": "code",
      "source": [
        "#stack function\n",
        "ar1  = np.array([1,2,3,4])\n",
        "ar2 = np.array([5,6,7,8])\n",
        "\n",
        "ar3 = np.stack((ar1,ar2), axis=1)\n",
        "print(ar3)\n",
        "print()\n",
        "ar3 = np.stack((ar1,ar2), axis=0)\n",
        "print(ar3)\n"
      ],
      "metadata": {
        "colab": {
          "base_uri": "https://localhost:8080/"
        },
        "id": "MjO46F626_wZ",
        "outputId": "171d31b4-b1c3-4c44-c98c-0c3b69f5c5d6"
      },
      "execution_count": null,
      "outputs": [
        {
          "output_type": "stream",
          "name": "stdout",
          "text": [
            "[[1 5]\n",
            " [2 6]\n",
            " [3 7]\n",
            " [4 8]]\n",
            "\n",
            "[[1 2 3 4]\n",
            " [5 6 7 8]]\n"
          ]
        }
      ]
    },
    {
      "cell_type": "code",
      "source": [
        "#hstack function -it works with row\n",
        "ar1  = np.array([1,2,3,4])\n",
        "ar2 = np.array([5,6,7,8])\n",
        "\n",
        "ar3 = np.hstack((ar1,ar2))\n",
        "print(ar3)\n"
      ],
      "metadata": {
        "colab": {
          "base_uri": "https://localhost:8080/"
        },
        "id": "KdtqCHui6_tx",
        "outputId": "9d6c9c5f-8789-4329-d618-e827d8ef2644"
      },
      "execution_count": null,
      "outputs": [
        {
          "output_type": "stream",
          "name": "stdout",
          "text": [
            "[1 2 3 4 5 6 7 8]\n"
          ]
        }
      ]
    },
    {
      "cell_type": "code",
      "source": [
        "#vstack function - it works with column\n",
        "ar1  = np.array([1,2,3,4])\n",
        "ar2 = np.array([5,6,7,8])\n",
        "\n",
        "ar3 = np.vstack((ar1,ar2))\n",
        "print(ar3)\n"
      ],
      "metadata": {
        "colab": {
          "base_uri": "https://localhost:8080/"
        },
        "id": "FZvoQ4-26_rR",
        "outputId": "5ddd15d9-52c0-4157-cbad-bd06708e5e5d"
      },
      "execution_count": null,
      "outputs": [
        {
          "output_type": "stream",
          "name": "stdout",
          "text": [
            "[[1 2 3 4]\n",
            " [5 6 7 8]]\n"
          ]
        }
      ]
    },
    {
      "cell_type": "code",
      "source": [
        "#dstack - it works with height\n",
        "ar1  = np.array([1,2,3,4])\n",
        "ar2 = np.array([5,6,7,8])\n",
        "\n",
        "ar3 = np.dstack((ar1,ar2))\n",
        "print(ar3)"
      ],
      "metadata": {
        "colab": {
          "base_uri": "https://localhost:8080/"
        },
        "id": "5ePAV5m36_l3",
        "outputId": "03b0b175-8712-4f33-84be-c4d3a7f19abf"
      },
      "execution_count": null,
      "outputs": [
        {
          "output_type": "stream",
          "name": "stdout",
          "text": [
            "[[[1 5]\n",
            "  [2 6]\n",
            "  [3 7]\n",
            "  [4 8]]]\n"
          ]
        }
      ]
    },
    {
      "cell_type": "code",
      "source": [
        "#split\n",
        "ar1 = np.array([1,2,3,4,5,6])\n",
        "\n",
        "ar2 = np.split(ar1,2)\n",
        "print(ar2)\n",
        "print()\n",
        "\n",
        "#array_split(array_name , partition_number_of_array)\n",
        "ar1 = np.array([1,2,3,4,5,6])\n",
        "\n",
        "ar2 = np.array_split(ar1,2)\n",
        "print(ar2)\n",
        "\n",
        "print()\n",
        "ar2 = np.array_split(ar1,4)\n",
        "print(ar2)\n",
        "\n",
        "print()\n",
        "ar2 = np.array_split(ar1,3)\n",
        "print(ar2)"
      ],
      "metadata": {
        "colab": {
          "base_uri": "https://localhost:8080/"
        },
        "id": "GV5hCk3z6_fZ",
        "outputId": "de75439c-6b82-4db5-815e-d13419cc7dad"
      },
      "execution_count": null,
      "outputs": [
        {
          "output_type": "stream",
          "name": "stdout",
          "text": [
            "[array([1, 2, 3]), array([4, 5, 6])]\n",
            "\n",
            "[array([1, 2, 3]), array([4, 5, 6])]\n",
            "\n",
            "[array([1, 2]), array([3, 4]), array([5]), array([6])]\n",
            "\n",
            "[array([1, 2]), array([3, 4]), array([5, 6])]\n"
          ]
        }
      ]
    },
    {
      "cell_type": "code",
      "source": [
        "ar1 = np.array([[1,2,3],[4,5,6]])\n",
        "\n",
        "ar2 = np.array_split(ar1,2)\n",
        "print(ar2)\n",
        "print()\n",
        "\n",
        "ar2 = np.array_split(ar1,3)\n",
        "print(ar2)"
      ],
      "metadata": {
        "colab": {
          "base_uri": "https://localhost:8080/"
        },
        "id": "D7g3R3X26_Ze",
        "outputId": "9bdec638-d863-4100-97f4-4c55421c3a0c"
      },
      "execution_count": null,
      "outputs": [
        {
          "output_type": "stream",
          "name": "stdout",
          "text": [
            "[array([[1, 2, 3]]), array([[4, 5, 6]])]\n",
            "\n",
            "[array([[1, 2, 3]]), array([[4, 5, 6]]), array([], shape=(0, 3), dtype=int64)]\n"
          ]
        }
      ]
    },
    {
      "cell_type": "code",
      "source": [
        "#hsplit\n",
        "ar1 = np.array([[1,2,3],[4,5,6]])\n",
        "\n",
        "ar2 = np.hsplit(ar1,3)\n",
        "print(ar2)\n",
        "print()\n",
        "#vsplit\n",
        "ar2 = np.vsplit(ar1,2)\n",
        "print(ar2)\n",
        "print()\n",
        "\n"
      ],
      "metadata": {
        "colab": {
          "base_uri": "https://localhost:8080/"
        },
        "id": "BQu8m23a6_LK",
        "outputId": "69c473a1-69b0-4a0e-b12a-8c51e5d7d4b8"
      },
      "execution_count": null,
      "outputs": [
        {
          "output_type": "stream",
          "name": "stdout",
          "text": [
            "[array([[1],\n",
            "       [4]]), array([[2],\n",
            "       [5]]), array([[3],\n",
            "       [6]])]\n",
            "\n",
            "[array([[1, 2, 3]]), array([[4, 5, 6]])]\n",
            "\n"
          ]
        }
      ]
    },
    {
      "cell_type": "markdown",
      "source": [
        "# Numpy Arrays Functions Search , Sort , Search Sorted , Filter"
      ],
      "metadata": {
        "id": "r1peOf3zWgpF"
      }
    },
    {
      "cell_type": "code",
      "source": [
        "import numpy as np\n",
        "\n",
        "#search\n",
        "arr = np.array([1,2,3,4,5,4,4])\n",
        "x = np.where(arr == 4)  # it gives the index positions of elements\n",
        "print(x)\n",
        "print()\n",
        "y = np.where((arr%2)==0)\n",
        "print(y)"
      ],
      "metadata": {
        "colab": {
          "base_uri": "https://localhost:8080/"
        },
        "id": "akmn2k9qKUYE",
        "outputId": "9b29a16a-0924-496e-e4bd-37e6be91b2b0"
      },
      "execution_count": 85,
      "outputs": [
        {
          "output_type": "stream",
          "name": "stdout",
          "text": [
            "(array([3, 5, 6]),)\n",
            "\n",
            "(array([1, 3, 5, 6]),)\n"
          ]
        }
      ]
    },
    {
      "cell_type": "code",
      "source": [
        "#search sorted -> perform binary search\n",
        "ar = np.array([1,2,3,45,56,67,89])\n",
        "x = np.searchsorted(ar , 5)\n",
        "print(x)\n",
        "print()\n",
        "x = np.searchsorted(ar , 56 , side='right')\n",
        "print(x)\n",
        "print()\n",
        "x = np.searchsorted(ar , [5,56,67])\n",
        "print(x)"
      ],
      "metadata": {
        "id": "ATqb2jdUKUUT",
        "colab": {
          "base_uri": "https://localhost:8080/"
        },
        "outputId": "82cf2f1f-30a8-41db-bcb4-3f0954ed0f15"
      },
      "execution_count": 89,
      "outputs": [
        {
          "output_type": "stream",
          "name": "stdout",
          "text": [
            "3\n",
            "\n",
            "5\n",
            "\n",
            "[3 4 5]\n"
          ]
        }
      ]
    },
    {
      "cell_type": "code",
      "source": [
        "# sort\n",
        "a = np.array([12,1,2,34,5,3,80,70,45,43,67])\n",
        "print(\"Original Array  : \",a)\n",
        "print()\n",
        "sort_array = np.sort(a)\n",
        "print(\"Sorted Array  : \",sort_array)\n",
        "\n",
        "#2d array\n",
        "print()\n",
        "a = np.array([[12,1,2,34],[5,3,11,80],[70,45,43,67]])\n",
        "print(\"Original Array  : \\n\",a)\n",
        "print()\n",
        "sort_array = np.sort(a)\n",
        "print(\"Sorted Array  : \\n\",sort_array)\n",
        "\n",
        "#alphabet array\n",
        "alphabet_arr = np.array(['z','b','a','d','e','c'])\n",
        "print()\n",
        "print(\"Original Array  : \",alphabet_arr)\n",
        "print()\n",
        "sort_array = np.sort(alphabet_arr)\n",
        "print(\"Sorted Array  : \",sort_array)\n",
        "\n",
        "#string array\n",
        "str_array = np.array(['pratik','dipak','abhi','babblu'])\n",
        "print()\n",
        "print(\"Original Array  : \",str_array)\n",
        "print()\n",
        "sort_array = np.sort(str_array)\n",
        "print(\"Sorted Array  : \",sort_array)\n"
      ],
      "metadata": {
        "id": "T9cQhflTKURC",
        "colab": {
          "base_uri": "https://localhost:8080/"
        },
        "outputId": "fdbee2dd-31c6-441c-a1e7-d2d7e14a4a54"
      },
      "execution_count": 93,
      "outputs": [
        {
          "output_type": "stream",
          "name": "stdout",
          "text": [
            "Original Array  :  [12  1  2 34  5  3 80 70 45 43 67]\n",
            "\n",
            "Sorted Array  :  [ 1  2  3  5 12 34 43 45 67 70 80]\n",
            "\n",
            "Original Array  : \n",
            " [[12  1  2 34]\n",
            " [ 5  3 11 80]\n",
            " [70 45 43 67]]\n",
            "\n",
            "Sorted Array  : \n",
            " [[ 1  2 12 34]\n",
            " [ 3  5 11 80]\n",
            " [43 45 67 70]]\n",
            "\n",
            "Original Array  :  ['z' 'b' 'a' 'd' 'e' 'c']\n",
            "\n",
            "Sorted Array  :  ['a' 'b' 'c' 'd' 'e' 'z']\n",
            "\n",
            "Original Array  :  ['pratik' 'dipak' 'abhi' 'babblu']\n",
            "\n",
            "Sorted Array  :  ['abhi' 'babblu' 'dipak' 'pratik']\n"
          ]
        }
      ]
    },
    {
      "cell_type": "code",
      "source": [
        "#filter\n",
        "\n",
        "arr = np.array([41, 42, 43, 44])\n",
        "\n",
        "x = [True, False, True, False]\n",
        "\n",
        "filter_newarr = arr[x]\n",
        "\n",
        "print(filter_newarr)\n",
        "\n",
        "#another eaxpmle with condition\n",
        "filter_arr = arr > 42\n",
        "\n",
        "newarr = arr[filter_arr]\n",
        "print(filter_arr)\n",
        "print(newarr)"
      ],
      "metadata": {
        "id": "qUwVcYUDKUNq",
        "colab": {
          "base_uri": "https://localhost:8080/"
        },
        "outputId": "4ca866ff-b673-4eba-c1e7-cc392cc4da2f"
      },
      "execution_count": 99,
      "outputs": [
        {
          "output_type": "stream",
          "name": "stdout",
          "text": [
            "[41 43]\n",
            "[False False  True  True]\n",
            "[43 44]\n"
          ]
        }
      ]
    },
    {
      "cell_type": "markdown",
      "source": [
        "# Shuffle , Unique , Resize , Flatten , Ravel Functions\n",
        "\n",
        "# 1. np.random.shuffle()\n",
        "\n",
        "Purpose: Randomly shuffles the elements of an array in-place (only along the first axis).\n",
        "\n",
        "✅ Theory Points:\n",
        "Modifies the original array.\n",
        "\n",
        "Does not return anything (returns None).\n",
        "\n",
        "For 2D arrays: only rows are shuffled, not the elements within rows."
      ],
      "metadata": {
        "id": "XECNofYNiAfL"
      }
    },
    {
      "cell_type": "code",
      "source": [
        "arr1  = np.array([1,2,3,4,5])\n",
        "np.random.shuffle(arr1)\n",
        "print(arr1)"
      ],
      "metadata": {
        "id": "LznEN4ZHKUKO",
        "colab": {
          "base_uri": "https://localhost:8080/"
        },
        "outputId": "bfe6ec99-a9a9-41e1-9824-f554f9043869"
      },
      "execution_count": 103,
      "outputs": [
        {
          "output_type": "stream",
          "name": "stdout",
          "text": [
            "[1 5 4 2 3]\n"
          ]
        }
      ]
    },
    {
      "cell_type": "markdown",
      "source": [
        "#2. np.unique()\n",
        "\n",
        "Purpose: Returns sorted unique elements from an array.\n",
        "\n",
        "✅ Theory Points:\n",
        "Does not modify the original array.\n",
        "\n",
        "Returns a new array of unique sorted values.\n",
        "\n",
        "You can also get counts, indices, or inverse using parameters."
      ],
      "metadata": {
        "id": "T6U-VVZKjLcD"
      }
    },
    {
      "cell_type": "code",
      "source": [
        "a = np.array([1, 2, 2, 3, 4, 4])\n",
        "unique = np.unique(a)\n",
        "print(unique)  # Output: [1 2 3 4]\n",
        "print()\n",
        "#index position\n",
        "unique, indices = np.unique(a, return_index=True)\n",
        "print(unique)  # Output: [1 2 3 4]\n",
        "print(indices)  # Output: [0 1 3 5]\n",
        "print()\n",
        "#count\n",
        "unique, counts = np.unique(a, return_counts=True)\n",
        "print(unique)  # Output: [1 2 3 4]\n",
        "print(counts)  # Output: [1 2 1 2]\n"
      ],
      "metadata": {
        "id": "43_oj-J_KUHT",
        "colab": {
          "base_uri": "https://localhost:8080/"
        },
        "outputId": "4fa1ee20-28a3-4fe9-d86f-1ffdcfbc5f34"
      },
      "execution_count": 106,
      "outputs": [
        {
          "output_type": "stream",
          "name": "stdout",
          "text": [
            "[1 2 3 4]\n",
            "\n",
            "[1 2 3 4]\n",
            "[0 1 3 4]\n",
            "\n",
            "[1 2 3 4]\n",
            "[1 2 1 2]\n"
          ]
        }
      ]
    },
    {
      "cell_type": "markdown",
      "source": [
        "# 3. np.resize()\n",
        "\n",
        "Purpose: Returns a new array with the given shape. Fills extra space by repeating data if needed.\n",
        "\n",
        "✅ Theory Points:\n",
        "Different from reshape(), it can increase or decrease size.\n",
        "\n",
        "Returns a new resized array."
      ],
      "metadata": {
        "id": "62R_x0NUkJ-Q"
      }
    },
    {
      "cell_type": "code",
      "source": [
        "arr = np.array([1, 2, 3, 4, 5, 6])\n",
        "resized = np.resize(arr, (3, 2))\n",
        "print(resized)\n",
        "print()\n",
        "#1d again\n",
        "resized = np.resize(arr, (6))\n",
        "print(resized)\n",
        "#another way\n",
        "print()\n",
        "resized = np.resize(arr, (3, 3))\n",
        "print(resized)"
      ],
      "metadata": {
        "id": "gF64xh3SKUDB",
        "colab": {
          "base_uri": "https://localhost:8080/"
        },
        "outputId": "22ff61a9-af67-437b-d16e-7ebaa0660302"
      },
      "execution_count": 111,
      "outputs": [
        {
          "output_type": "stream",
          "name": "stdout",
          "text": [
            "[[1 2]\n",
            " [3 4]\n",
            " [5 6]]\n",
            "\n",
            "[1 2 3 4 5 6]\n",
            "\n",
            "[[1 2 3]\n",
            " [4 5 6]\n",
            " [1 2 3]]\n"
          ]
        }
      ]
    },
    {
      "cell_type": "markdown",
      "source": [
        " # 4. flatten()\n",
        "\n",
        "Purpose: Converts any array into a 1D copy.\n",
        "\n",
        "✅ Theory Points:\n",
        "\n",
        "Returns a new 1D array.\n",
        "\n",
        "Original array remains unchanged.\n",
        "\n",
        "Default row-major (C-style) flattening."
      ],
      "metadata": {
        "id": "3OG2y_phlAJU"
      }
    },
    {
      "cell_type": "code",
      "source": [
        "a = np.array([[1, 2], [3, 4]])\n",
        "flat = a.flatten()\n",
        "print(flat)  # Output: [1 2 3 4]\n",
        "\n",
        "print()\n",
        "\n",
        "#pass the order\n",
        "flat = a.flatten(order='F')\n",
        "print(flat)  # Output: [1 3 2 4]\n",
        "\n",
        "print()\n"
      ],
      "metadata": {
        "colab": {
          "base_uri": "https://localhost:8080/"
        },
        "id": "if1kDAfck-V-",
        "outputId": "d8d3b547-8b7d-4e69-f874-d39bb17e0b27"
      },
      "execution_count": 113,
      "outputs": [
        {
          "output_type": "stream",
          "name": "stdout",
          "text": [
            "[1 2 3 4]\n",
            "\n",
            "[1 3 2 4]\n"
          ]
        }
      ]
    },
    {
      "cell_type": "markdown",
      "source": [
        "# 5. ravel()\n",
        "\n",
        "Purpose: Returns a flattened view of the array (whenever possible).\n",
        "\n",
        "✅ Theory Points:\n",
        "\n",
        "Faster and uses less memory than flatten().\n",
        "\n",
        "Returns a view if possible, else a copy.\n",
        "\n",
        "Original array may change if you modify the raveled array."
      ],
      "metadata": {
        "id": "vZ-LXnEpk9P8"
      }
    },
    {
      "cell_type": "code",
      "source": [
        "a = np.array([[1, 2], [3, 4]])\n",
        "r = a.ravel()\n",
        "print(r)  # Output: [1 2 3 4]\n",
        "\n",
        "print()\n",
        "#pass the order\n",
        "r = a.ravel(order='F')\n",
        "print(r)  # Output: [1 3 2 4]\n",
        "\n",
        "print()\n"
      ],
      "metadata": {
        "id": "CCtThdenKT9o",
        "colab": {
          "base_uri": "https://localhost:8080/"
        },
        "outputId": "3d4a6b40-19c6-4ecc-ea47-6f94ef04e119"
      },
      "execution_count": 115,
      "outputs": [
        {
          "output_type": "stream",
          "name": "stdout",
          "text": [
            "[1 2 3 4]\n",
            "\n",
            "[1 3 2 4]\n",
            "\n"
          ]
        }
      ]
    },
    {
      "cell_type": "markdown",
      "source": [
        "# Insert And Delete functions\n",
        "\n",
        "✅ NumPy insert() and delete() Functions\n",
        "\n",
        "These functions help in modifying array structure by adding or removing elements.\n",
        "\n",
        "🔹 np.insert()\n",
        "\n",
        "📌 Purpose:\n",
        "Inserts values into an array at specified indices.\n",
        "\n",
        "✅ Theory Points:\n",
        "\n",
        "Returns a new array (original is unchanged).\n",
        "\n",
        "Can insert a single value or multiple values.\n",
        "\n",
        "Works with 1D and multidimensional arrays.\n",
        "\n",
        "# Syntax:\n",
        "np.insert(arr, index, value, axis=None)"
      ],
      "metadata": {
        "id": "WW4Z9Tedm8p_"
      }
    },
    {
      "cell_type": "code",
      "source": [
        "arr = np.array([1, 2, 3, 4, 5])\n",
        "new_arr = np.insert(arr, 2, 10)\n",
        "print(new_arr)  # Output: [ 1  2 10  3  4  5]\n",
        "\n",
        "print()\n",
        "#insert multiple values\n",
        "new_arr = np.insert(arr, (2, 4), [10, 20])\n",
        "print(new_arr)  # Output: [ 1  2 10 20  3  4  5]\n",
        "\n",
        "print()\n",
        "#2d array\n",
        "arr = np.array([[1, 2], [3, 4]])\n",
        "new_arr = np.insert(arr, 1, [10, 20], axis=0)\n",
        "print(new_arr)\n",
        "print()\n",
        "\n",
        "#2d array\n",
        "arr = np.array([[1, 2], [3, 4]])\n",
        "new_arr = np.insert(arr, 1, [10, 20], axis=1)\n",
        "print(new_arr)\n",
        "print()\n",
        "#multi dimensional array\n",
        "arr = np.array([[1, 2], [3, 4]])\n",
        "new_arr = np.insert(arr, 1, [[10, 20], [30, 40]], axis=1)\n",
        "print(new_arr)\n",
        "\n",
        "#using append function\n",
        "print()\n",
        "arr = np.array([1, 2, 3, 4, 5])\n",
        "new_arr = np.append(arr, [10, 20])\n",
        "print(new_arr)\n",
        "\n",
        "#2d array\n",
        "print()\n",
        "arr = np.array([[1, 2], [3, 4]])\n",
        "new_arr = np.append(arr, [[10, 20]], axis=0)\n",
        "print(new_arr)\n",
        "\n",
        "#axis 1\n",
        "print()\n",
        "arr = np.array([[1, 2], [3, 4]])\n",
        "new_arr = np.append(arr, [[10], [20]], axis=1)\n",
        "print(new_arr)"
      ],
      "metadata": {
        "colab": {
          "base_uri": "https://localhost:8080/"
        },
        "id": "ma06r_YgnCNK",
        "outputId": "c2bc982a-3837-4ab7-80a7-1aa5466760be"
      },
      "execution_count": 129,
      "outputs": [
        {
          "output_type": "stream",
          "name": "stdout",
          "text": [
            "[ 1  2 10  3  4  5]\n",
            "\n",
            "[ 1  2 10  3  4 20  5]\n",
            "\n",
            "[[ 1  2]\n",
            " [10 20]\n",
            " [ 3  4]]\n",
            "\n",
            "[[ 1 10  2]\n",
            " [ 3 20  4]]\n",
            "\n",
            "[[ 1 10 30  2]\n",
            " [ 3 20 40  4]]\n",
            "\n",
            "[ 1  2  3  4  5 10 20]\n",
            "\n",
            "[[ 1  2]\n",
            " [ 3  4]\n",
            " [10 20]]\n",
            "\n",
            "[[ 1  2 10]\n",
            " [ 3  4 20]]\n"
          ]
        }
      ]
    },
    {
      "cell_type": "markdown",
      "source": [
        "#🔹 np.delete()\n",
        "\n",
        "📌 Purpose:\n",
        "Deletes elements from an array at specified indices.\n",
        "\n",
        "✅ Theory Points:\n",
        "\n",
        "Returns a new array (original is unchanged).\n",
        "\n",
        "Can delete single or multiple indices.\n",
        "\n",
        "Can work along any axis in multi-dimensional arrays.\n",
        "\n",
        "# Syntax:\n",
        "\n",
        "np.delete(arr, index, axis=None)"
      ],
      "metadata": {
        "id": "01zbzeTAqOe0"
      }
    },
    {
      "cell_type": "code",
      "source": [
        "#delete\n",
        "arr = np.array([10,20,30,40,50,60,70])\n",
        "new_arr = np.delete(arr, [1,4])\n",
        "print(new_arr)\n",
        "\n",
        "#2d array\n",
        "print()\n",
        "arr = np.array([[1, 2], [3, 4]])\n",
        "new_arr = np.delete(arr, 1, axis=0)\n",
        "print(new_arr)\n",
        "\n",
        "# 3d array\n",
        "print()\n",
        "arr = np.array([[[1, 2], [3, 4]], [[5, 6], [7, 8]]])\n",
        "new_arr = np.delete(arr, 1, axis=2)\n",
        "print(new_arr)"
      ],
      "metadata": {
        "colab": {
          "base_uri": "https://localhost:8080/"
        },
        "id": "R9yUroxLnDX9",
        "outputId": "516664cb-907d-435a-ffa9-4b0ae3543837"
      },
      "execution_count": 132,
      "outputs": [
        {
          "output_type": "stream",
          "name": "stdout",
          "text": [
            "[10 30 40 60 70]\n",
            "\n",
            "[[1 2]]\n",
            "\n",
            "[[[1]\n",
            "  [3]]\n",
            "\n",
            " [[5]\n",
            "  [7]]]\n"
          ]
        }
      ]
    },
    {
      "cell_type": "markdown",
      "source": [
        "# Matrix in numpy arrays\n",
        "\n",
        "✅ Matrix in NumPy\n",
        "\n",
        "A matrix is a rectangular array of numbers arranged in rows and columns. In NumPy, matrices are represented using 2D arrays.\n",
        "\n",
        "🔹 What is a Matrix in NumPy?\n",
        "NumPy represents matrices as 2-dimensional arrays using np.array().\n",
        "\n",
        "Shape of a matrix: (rows, columns).\n",
        "\n",
        "NumPy also has a special np.matrix class, but it’s not recommended — use np.array for flexibility.\n",
        "\n"
      ],
      "metadata": {
        "id": "A2h8ZphYrR6F"
      }
    },
    {
      "cell_type": "code",
      "source": [
        "matrix  = np.matrix([[1,2,3],[4,5,6],[7,8,9]])\n",
        "print(matrix)\n",
        "print()\n",
        "print(type(matrix))"
      ],
      "metadata": {
        "colab": {
          "base_uri": "https://localhost:8080/"
        },
        "id": "_pt9VAiUnDVv",
        "outputId": "83e92b2c-7fd3-403b-c7cd-bff23841fce4"
      },
      "execution_count": 133,
      "outputs": [
        {
          "output_type": "stream",
          "name": "stdout",
          "text": [
            "[[1 2 3]\n",
            " [4 5 6]\n",
            " [7 8 9]]\n",
            "\n",
            "<class 'numpy.matrix'>\n"
          ]
        }
      ]
    },
    {
      "cell_type": "code",
      "source": [
        "arr1 = np.array([[1,2,3],[4,5,6]])\n",
        "arr2 = np.matrix([[7,8,9],[10,11,12]])\n",
        "print(type(arr1))\n",
        "print(type(arr2))"
      ],
      "metadata": {
        "colab": {
          "base_uri": "https://localhost:8080/"
        },
        "id": "5SoqnFvNnDTf",
        "outputId": "c2b63cab-79fd-4782-cc98-8a7b7c83c2c6"
      },
      "execution_count": 134,
      "outputs": [
        {
          "output_type": "stream",
          "name": "stdout",
          "text": [
            "<class 'numpy.ndarray'>\n",
            "<class 'numpy.matrix'>\n"
          ]
        }
      ]
    },
    {
      "cell_type": "markdown",
      "source": [
        "# 🔹 Common Matrix Functions in NumPy\n",
        "\n",
        "| Function Name     | Syntax / Usage              | Description                             | Example                               | Output                           |\n",
        "|------------------|-----------------------------|-----------------------------------------|---------------------------------------|----------------------------------|\n",
        "| array()          | np.array()                  | Create matrix                           | np.array([[1, 2], [3, 4]])            | [[1 2] [3 4]]                    |\n",
        "| zeros()          | np.zeros((m, n))            | m×n matrix of all 0s                    | np.zeros((2, 3))                      | [[0. 0. 0.], [0. 0. 0.]]         |\n",
        "| ones()           | np.ones((m, n))             | m×n matrix of all 1s                    | np.ones((2, 3))                       | [[1. 1. 1.], [1. 1. 1.]]         |\n",
        "| eye()            | np.eye(n)                   | Identity matrix of size n×n            | np.eye(3)                             | [[1. 0. 0.], [0. 1. 0.], [0. 0. 1.]] |\n",
        "| transpose()      | A.T or matrix.T             | Transpose matrix (rows ↔ columns)       | np.array([[1, 2], [3, 4]]).T          | [[1 3], [2 4]]                   |\n",
        "| reshape()        | np.reshape(mat, shape)      | Reshape matrix to a different shape     | np.reshape([[1,2],[3,4]], (1,4))      | [[1 2 3 4]]                      |\n",
        "\n",
        "\n",
        "\n",
        "\n"
      ],
      "metadata": {
        "id": "3uJDHb_R25vk"
      }
    },
    {
      "cell_type": "markdown",
      "source": [
        "# 🔹 Matrix Operations\n",
        "\n",
        "| Operation Name       | Syntax / Usage                 | Description                           | Example                                 | Output                         |\n",
        "|----------------------|-------------------------------|---------------------------------------|-----------------------------------------|--------------------------------|\n",
        "| Matrix addition      | A + B                         | Element-wise addition                 | [[1,2],[3,4]] + [[5,6],[7,8]]           | [[6 8], [10 12]]               |\n",
        "| Matrix subtraction   | A - B                         | Element-wise subtraction              | [[5,6],[7,8]] - [[1,2],[3,4]]           | [[4 4], [4 4]]                 |\n",
        "| Matrix multiplication| np.dot(A, B) or A @ B         | Dot product (matrix multiplication)   | np.dot([[1,2],[3,4]], [[5,6],[7,8]])    | [[19 22], [43 50]]             |\n",
        "| Element-wise multiply| A * B                         | Multiplies corresponding elements     | [[1,2],[3,4]] * [[2,2],[2,2]]           | [[2 4], [6 8]]                 |\n",
        "| Transpose            | A.T                           | Transpose rows and columns            | [[1,2,3],[4,5,6]].T                     | [[1 4], [2 5], [3 6]]          |\n",
        "| Inverse              | np.linalg.inv(A)              | Inverse of a square matrix            | np.linalg.inv([[1,2],[3,4]])           | [[-2. 1.], [1.5 -0.5]]         |\n",
        "| Determinant          | np.linalg.det(A)              | Scalar determinant                    | np.linalg.det([[1,2],[3,4]])           | -2.0000000000000004            |\n",
        "| Rank                 | np.linalg.matrix_rank(A)      | Finds rank of matrix                  | np.linalg.matrix_rank([[1,2],[3,6]])   | 1                              |\n"
      ],
      "metadata": {
        "id": "hvFuM3cn4BGx"
      }
    },
    {
      "cell_type": "code",
      "source": [
        "#addition in array\n",
        "a = np.array([[1,2],[3,4]])\n",
        "b = np.array([[5,6],[7,8]])\n",
        "c = a+b\n",
        "print(c)\n",
        "\n",
        "print()\n",
        "#addition in matrix\n",
        "a = np.matrix([[1,2],[3,4]])\n",
        "b = np.matrix([[5,6],[7,8]])\n",
        "c = a+b\n",
        "print(c)\n"
      ],
      "metadata": {
        "colab": {
          "base_uri": "https://localhost:8080/"
        },
        "id": "0qwIN5VS1VsA",
        "outputId": "860b9d87-f637-461f-c0fd-ba32f3247c9d"
      },
      "execution_count": 135,
      "outputs": [
        {
          "output_type": "stream",
          "name": "stdout",
          "text": [
            "[[ 6  8]\n",
            " [10 12]]\n",
            "\n",
            "[[ 6  8]\n",
            " [10 12]]\n"
          ]
        }
      ]
    },
    {
      "cell_type": "code",
      "source": [
        "#subtraction in array\n",
        "a = np.array([[1,2],[3,4]])\n",
        "b = np.array([[5,6],[7,8]])\n",
        "c = a-b\n",
        "print(c)\n",
        "\n",
        "print()\n",
        "#subtraction in matrix\n",
        "a = np.matrix([[1,2],[3,4]])\n",
        "b = np.matrix([[5,6],[7,8]])\n",
        "c = a-b\n",
        "print(c)"
      ],
      "metadata": {
        "colab": {
          "base_uri": "https://localhost:8080/"
        },
        "id": "Wt0YS1qWnDRe",
        "outputId": "b8a852fd-1e07-49c4-af8c-35d2329a3c47"
      },
      "execution_count": 136,
      "outputs": [
        {
          "output_type": "stream",
          "name": "stdout",
          "text": [
            "[[-4 -4]\n",
            " [-4 -4]]\n",
            "\n",
            "[[-4 -4]\n",
            " [-4 -4]]\n"
          ]
        }
      ]
    },
    {
      "cell_type": "code",
      "source": [
        "#multiplication in array\n",
        "a = np.array([[1,2],[3,4]])\n",
        "b = np.array([[5,6],[7,8]])\n",
        "c = a*b\n",
        "print(c)\n",
        "\n",
        "print()\n",
        "#multiplication in matrix\n",
        "a = np.matrix([[1,2],[3,4]])\n",
        "b = np.matrix([[5,6],[7,8]])\n",
        "c = a*b\n",
        "print(c)\n",
        "\n",
        "#dot\n",
        "print()\n",
        "a = np.array([[1,2],[3,4]])\n",
        "b = np.array([[5,6],[7,8]])\n",
        "c = np.dot(a,b)\n",
        "print(c)"
      ],
      "metadata": {
        "colab": {
          "base_uri": "https://localhost:8080/"
        },
        "id": "2iEZP9OGnDPf",
        "outputId": "156fd746-ad82-4000-ec97-4d6d9047d9b7"
      },
      "execution_count": 138,
      "outputs": [
        {
          "output_type": "stream",
          "name": "stdout",
          "text": [
            "[[ 5 12]\n",
            " [21 32]]\n",
            "\n",
            "[[19 22]\n",
            " [43 50]]\n",
            "\n",
            "[[19 22]\n",
            " [43 50]]\n"
          ]
        }
      ]
    },
    {
      "cell_type": "code",
      "source": [
        "#transpose\n",
        "a = np.array([[1,2],[3,4]])\n",
        "print(a)\n",
        "print()\n",
        "print(a.T)\n",
        "\n",
        "#another way\n",
        "print()\n",
        "a = np.matrix([[1,2],[3,4]])\n",
        "print(a)\n",
        "print()\n",
        "print(a.T)\n",
        "\n",
        "#another way\n",
        "print()\n",
        "a = np.array([[1,2],[3,4]])\n",
        "print(a)\n",
        "print()\n",
        "print(np.transpose(a))"
      ],
      "metadata": {
        "colab": {
          "base_uri": "https://localhost:8080/"
        },
        "id": "4pZbp_Y_nDNb",
        "outputId": "9eb4bc43-ce6d-43b8-b7e8-4870d7fa271c"
      },
      "execution_count": 139,
      "outputs": [
        {
          "output_type": "stream",
          "name": "stdout",
          "text": [
            "[[1 2]\n",
            " [3 4]]\n",
            "\n",
            "[[1 3]\n",
            " [2 4]]\n",
            "\n",
            "[[1 2]\n",
            " [3 4]]\n",
            "\n",
            "[[1 3]\n",
            " [2 4]]\n",
            "\n",
            "[[1 2]\n",
            " [3 4]]\n",
            "\n",
            "[[1 3]\n",
            " [2 4]]\n"
          ]
        }
      ]
    },
    {
      "cell_type": "code",
      "source": [
        "#swapaxes\n",
        "a = np.array([[1,2],[3,4]])\n",
        "print(a)\n",
        "print()\n",
        "print(np.swapaxes(a,0,1))"
      ],
      "metadata": {
        "colab": {
          "base_uri": "https://localhost:8080/"
        },
        "id": "t3braHzSnDK2",
        "outputId": "f69266a3-1363-48ab-c86a-18344706892f"
      },
      "execution_count": 140,
      "outputs": [
        {
          "output_type": "stream",
          "name": "stdout",
          "text": [
            "[[1 2]\n",
            " [3 4]]\n",
            "\n",
            "[[1 3]\n",
            " [2 4]]\n"
          ]
        }
      ]
    },
    {
      "cell_type": "code",
      "source": [
        "#inverse\n",
        "a = np.array([[1,2],[3,4]])\n",
        "print(a)\n",
        "print()\n",
        "print(np.linalg.inv(a))\n",
        "\n",
        "#another way\n",
        "print()\n",
        "a = np.matrix([[1,2],[3,4]])\n",
        "print(a)\n",
        "print()\n",
        "print(a.I)"
      ],
      "metadata": {
        "colab": {
          "base_uri": "https://localhost:8080/"
        },
        "id": "N2fUwtwjnDHp",
        "outputId": "740282e3-c89b-4fc8-c07c-722fe3b3dac8"
      },
      "execution_count": 142,
      "outputs": [
        {
          "output_type": "stream",
          "name": "stdout",
          "text": [
            "[[1 2]\n",
            " [3 4]]\n",
            "\n",
            "[[-2.   1. ]\n",
            " [ 1.5 -0.5]]\n",
            "\n",
            "[[1 2]\n",
            " [3 4]]\n",
            "\n",
            "[[-2.   1. ]\n",
            " [ 1.5 -0.5]]\n"
          ]
        }
      ]
    },
    {
      "cell_type": "code",
      "source": [
        "#determinant\n",
        "a = np.array([[1,2],[3,4]])\n",
        "print(a)\n",
        "print()\n",
        "print(np.linalg.det(a))\n",
        "\n",
        "#another way\n",
        "print()\n",
        "a = np.matrix([[1,2],[3,4]])\n",
        "print(a)\n",
        "print()\n",
        "print(np.linalg.det(a))"
      ],
      "metadata": {
        "colab": {
          "base_uri": "https://localhost:8080/"
        },
        "id": "V_TBZAKInDEc",
        "outputId": "47a5a2cc-bfeb-4c6f-94b9-fac258d550d2"
      },
      "execution_count": 144,
      "outputs": [
        {
          "output_type": "stream",
          "name": "stdout",
          "text": [
            "[[1 2]\n",
            " [3 4]]\n",
            "\n",
            "-2.0000000000000004\n",
            "\n",
            "[[1 2]\n",
            " [3 4]]\n",
            "\n",
            "-2.0000000000000004\n"
          ]
        }
      ]
    },
    {
      "cell_type": "code",
      "source": [
        "#power\n",
        "a = np.array([[1,2],[3,4]])\n",
        "print(a)\n",
        "print()\n",
        "print(np.linalg.matrix_power(a,2))"
      ],
      "metadata": {
        "colab": {
          "base_uri": "https://localhost:8080/"
        },
        "id": "tiTVw8H0nDCS",
        "outputId": "7cc60f5f-b152-44a8-960e-586bb09d6c15"
      },
      "execution_count": 145,
      "outputs": [
        {
          "output_type": "stream",
          "name": "stdout",
          "text": [
            "[[1 2]\n",
            " [3 4]]\n",
            "\n",
            "[[ 7 10]\n",
            " [15 22]]\n"
          ]
        }
      ]
    },
    {
      "cell_type": "code",
      "source": [],
      "metadata": {
        "id": "wMAv2qbRnC-C"
      },
      "execution_count": null,
      "outputs": []
    }
  ],
  "metadata": {
    "colab": {
      "provenance": []
    },
    "kernelspec": {
      "display_name": "Python 3",
      "name": "python3"
    },
    "language_info": {
      "name": "python"
    }
  },
  "nbformat": 4,
  "nbformat_minor": 0
}